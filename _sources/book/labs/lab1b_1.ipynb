{
 "cells": [
  {
   "cell_type": "markdown",
   "id": "0",
   "metadata": {},
   "source": [
    "# Lab1b_1\n",
    "\n",
    "## Install Python Packages\n",
    "\n",
    "There are different ways to install Python packages. The most common methods are using pip or conda. Here are some examples:"
   ]
  },
  {
   "cell_type": "markdown",
   "id": "1",
   "metadata": {},
   "source": [
    "Geospatial is a Python package for installing commonly used packages for geospatial analysis and data visualization with only one command (Reference: https://geospatial.gishub.org/)\n",
    "\n",
    "To install packages using pip:\n"
   ]
  },
  {
   "cell_type": "code",
   "execution_count": null,
   "id": "2",
   "metadata": {},
   "outputs": [],
   "source": [
    "#pip install geospatial"
   ]
  },
  {
   "cell_type": "markdown",
   "id": "3",
   "metadata": {},
   "source": [
    "To install packages using conda:"
   ]
  },
  {
   "cell_type": "code",
   "execution_count": null,
   "id": "4",
   "metadata": {},
   "outputs": [],
   "source": [
    "#conda install geospatial -c conda-forge"
   ]
  },
  {
   "cell_type": "markdown",
   "id": "5",
   "metadata": {},
   "source": [
    "Alternatively, we can install packages using Mamba (package with many dependencies, mamba make it faster):\n"
   ]
  },
  {
   "cell_type": "code",
   "execution_count": null,
   "id": "6",
   "metadata": {},
   "outputs": [],
   "source": [
    "conda install -n base mamba -c conda-forge\n"
   ]
  },
  {
   "cell_type": "code",
   "execution_count": null,
   "id": "8c11ef16",
   "metadata": {},
   "outputs": [],
   "source": [
    "mamba install -c conda-forge geospatial"
   ]
  }
 ],
 "metadata": {
  "kernelspec": {
   "display_name": "Python 3",
   "language": "python",
   "name": "python3"
  },
  "language_info": {
   "name": "python",
   "version": "3.11.8"
  }
 },
 "nbformat": 4,
 "nbformat_minor": 5
}
