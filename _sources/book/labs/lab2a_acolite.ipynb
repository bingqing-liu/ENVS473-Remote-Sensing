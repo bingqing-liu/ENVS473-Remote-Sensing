{
 "cells": [
  {
   "cell_type": "markdown",
   "metadata": {},
   "source": [
    "\n",
    "# Lab2a\n",
    "# Atmospheric Correction with Acolite\n",
    "\n",
    "\n",
    "[Acolite](https://github.com/acolite/acolite) can perform atmospheric correction on a variety of satellite sensors, including Landsat, Sentinel-2, PACE, EMIT, AVIRIS, among others. For more information on how to use Acolite, please refer to the [Acolite manual]:https://www.scribd.com/document/650829066/acolite-manual-20221114-0\n",
    "\n",
    "In this example, we will use Acolite to perform atmospheric correction on a Sentinel-2 image.\n",
    "\n",
    "In previous class, we created a Environemnt called ENVS473. \n",
    "\n",
    "Now we need to create a new enviroment called \"geo\"\n",
    "\n",
    "Launch your Anaconda prompt (miniconda):\n",
    "\n",
    "conda env list\n",
    "\n",
    "conda create -n geo \n",
    "\n",
    "conda activate geo\n",
    "\n",
    "conda install mamba -c conda-forge\n",
    "\n",
    "mamba install -c conda-forge python=3.10 gdal=3.7.2 hvplot geoviews rioxarray rasterio geopandas fiona=1.9.4 jupyter earthaccess jupyter_bokeh h5py h5netcdf spectral scikit-image seaborn jupyterlab dask ray-default leafmap hypercoast\n",
    "\n",
    "\n",
    "\n"
   ]
  },
  {
   "cell_type": "code",
   "execution_count": null,
   "metadata": {},
   "outputs": [],
   "source": [
    "# %pip install \"hypercoast[extra]\""
   ]
  },
  {
   "cell_type": "markdown",
   "metadata": {},
   "source": [
    "## Import libraries"
   ]
  },
  {
   "cell_type": "code",
   "execution_count": 1,
   "metadata": {},
   "outputs": [
    {
     "name": "stderr",
     "output_type": "stream",
     "text": [
      "c:\\Users\\C00553090\\AppData\\Local\\miniconda3\\envs\\hypercoast\\lib\\site-packages\\pandas\\core\\computation\\expressions.py:21: UserWarning: Pandas requires version '2.8.4' or newer of 'numexpr' (version '2.7.3' currently installed).\n",
      "  from pandas.core.computation.check import NUMEXPR_INSTALLED\n"
     ]
    }
   ],
   "source": [
    "import os\n",
    "import hypercoast"
   ]
  },
  {
   "cell_type": "markdown",
   "metadata": {},
   "source": [
    "## Download sample data\n",
    "Please go to [Copernicus Browser](https://browser.dataspace.copernicus.eu/?zoom=11&lat=29.34901&lng=-89.2313&themeId=DEFAULT-THEME&visualizationUrl=U2FsdGVkX1%2BJ6ZVvrXnO19s9un2vE7tNg701ajWAKdqMHJE7pkoXUewQ2dSvy%2FHoqCKiUpV3URXrnGGSeU0zNuaoMgEBlqXBocKOWdHS69R8nliCIhDuS%2B%2Ff3D8DW4oC&datasetId=S2_L2A_CDAS&fromTime=2023-12-28T00%3A00%3A00.000Z&toTime=2023-12-28T23%3A59%3A59.999Z&layerId=1_TRUE_COLOR&demSource3D=%22MAPZEN%22&cloudCoverage=30&dateMode=SINGLE), and creat an account, so that you can download Sentinel 2 data.\n",
    "\n",
    "Or you can download data from this URL: https://github.com/opengeos/datasets/releases/download/hypercoast/S2A_MSIL1C_20160920T164452_N0204_R083_T15RYN_20160920T164450.SAFE.zip\n",
    "\n"
   ]
  },
  {
   "cell_type": "code",
   "execution_count": 2,
   "metadata": {},
   "outputs": [
    {
     "name": "stdout",
     "output_type": "stream",
     "text": [
      "Using local file: C:\\Users\\C00553090\\Downloads\\Sediment_data\\Sediment_data\\S2A_MSIL1C_20160920T164452_N0204_R083_T15RYN_20160920T164450.SAFE.zip\n"
     ]
    }
   ],
   "source": [
    "# Assuming you've already downloaded the file to your local folder\n",
    "work_dir = r\"C:\\Users\\C00553090\\Downloads\\Sediment_data\\Sediment_data\"\n",
    "filepath = os.path.join(work_dir, \"S2A_MSIL1C_20160920T164452_N0204_R083_T15RYN_20160920T164450.SAFE.zip\")\n",
    "\n",
    "# Now you have the file path for the locally stored file\n",
    "print(f\"Using local file: {filepath}\")"
   ]
  },
  {
   "cell_type": "code",
   "execution_count": 3,
   "metadata": {},
   "outputs": [],
   "source": [
    "# This line takes the filepath string (which represents the path to the ZIP file) and removes the .zip extension from it.\n",
    "input_dir = filepath.replace(\".zip\", \"\")\n",
    "# This line checks whether the directory represented by input_dir exists. The os.path.exists() function returns True if the path exists and False if it doesn't.\n",
    "if not os.path.exists(input_dir):\n",
    "    #If the directory does not exist, this line raises a FileNotFoundError with a custom error message. This is done using Python's raise statement, which generates an exception.\n",
    "    raise FileNotFoundError(f\"Directory {input_dir} not found\")"
   ]
  },
  {
   "cell_type": "markdown",
   "metadata": {},
   "source": [
    "## Download Acolite software"
   ]
  },
  {
   "cell_type": "code",
   "execution_count": 4,
   "metadata": {},
   "outputs": [
    {
     "name": "stdout",
     "output_type": "stream",
     "text": [
      "C:\\Users\\C00553090\\Downloads\\Sediment_data\\Sediment_data\\acolite_py_win_20231023.0.tar.gz already exists. Skip downloading.\n",
      "C:\\Users\\C00553090\\Downloads\\Sediment_data\\Sediment_data\\acolite_py_win_20231023.0.tar.gz already exists. Skip downloading.\n",
      "Acolite directory: C:\\Users\\C00553090\\Downloads\\Sediment_data\\Sediment_data\\acolite_py_win\n"
     ]
    }
   ],
   "source": [
    "# acolite_dir: This variable will store the path to the directory where the ACOLITE software is downloaded and saved.\n",
    "acolite_dir = hypercoast.download_acolite(work_dir)\n",
    "# hypercoast includes functions to download and configure various datasets and software, such as ACOLITE.\n",
    "# This function is designed to automatically download the ACOLITE and install it in the specified directory: work_dir.\n",
    "hypercoast.download_acolite(work_dir)\n",
    "print(f\"Acolite directory: {acolite_dir}\")"
   ]
  },
  {
   "cell_type": "markdown",
   "metadata": {},
   "source": [
    "## Run Acolite"
   ]
  },
  {
   "cell_type": "code",
   "execution_count": 5,
   "metadata": {},
   "outputs": [
    {
     "data": {
      "text/plain": [
       "'C:\\\\Users\\\\C00553090\\\\Downloads\\\\Sediment_data\\\\Sediment_data\\\\output'"
      ]
     },
     "execution_count": 5,
     "metadata": {},
     "output_type": "execute_result"
    }
   ],
   "source": [
    "out_dir = os.path.join(work_dir, \"output\")\n",
    "out_dir"
   ]
  },
  {
   "cell_type": "code",
   "execution_count": 13,
   "metadata": {},
   "outputs": [],
   "source": [
    "hypercoast.run_acolite(\n",
    "    acolite_dir=acolite_dir,\n",
    "    input_file=input_dir,\n",
    "    out_dir=out_dir,\n",
    "    l2w_parameters=\"Rrs_*,chl_oc3,chl_re_mishra,spm_nechad2016\",\n",
    "    rgb_rhot=True,\n",
    "    rgb_rhos=False,\n",
    "    map_l2w=True,\n",
    ")"
   ]
  },
  {
   "cell_type": "markdown",
   "metadata": {},
   "source": [
    "## Batch processing\n",
    "\n",
    "To process multiple images, put all the images in a folder. For example, unzip all the images in the `data` folder. Then, run the following code to make sure that all image folders are listed."
   ]
  },
  {
   "cell_type": "code",
   "execution_count": null,
   "metadata": {},
   "outputs": [],
   "source": [
    "input_dir = os.path.join(work_dir, \"data\")\n",
    "input_files = [os.path.join(input_dir, f) for f in os.listdir(input_dir)]\n",
    "input_files"
   ]
  },
  {
   "cell_type": "markdown",
   "metadata": {},
   "source": [
    "Run the following code to process all images in the `data` folder."
   ]
  },
  {
   "cell_type": "code",
   "execution_count": null,
   "metadata": {},
   "outputs": [],
   "source": [
    "hypercoast.run_acolite(\n",
    "    acolite_dir=acolite_dir,\n",
    "    input_file=input_files,\n",
    "    out_dir=out_dir,\n",
    "    l2w_parameters=\"Rrs_*,chl_oc3,chl_re_mishra,spm_nechad2016\",\n",
    "    rgb_rhot=True,\n",
    "    rgb_rhos=False,\n",
    "    map_l2w=True,\n",
    ")"
   ]
  }
 ],
 "metadata": {
  "kernelspec": {
   "display_name": "hyper",
   "language": "python",
   "name": "python3"
  },
  "language_info": {
   "codemirror_mode": {
    "name": "ipython",
    "version": 3
   },
   "file_extension": ".py",
   "mimetype": "text/x-python",
   "name": "python",
   "nbconvert_exporter": "python",
   "pygments_lexer": "ipython3",
   "version": "3.10.14"
  }
 },
 "nbformat": 4,
 "nbformat_minor": 2
}
