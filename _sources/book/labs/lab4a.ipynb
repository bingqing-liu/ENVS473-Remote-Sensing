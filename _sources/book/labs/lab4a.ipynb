{
 "cells": [
  {
   "cell_type": "markdown",
   "metadata": {},
   "source": [
    "# Lab4a - Working with NASA PACE data in HyperCoast\n",
    "\n",
    "This notebook demonstrates how to visualize and analyze Plankton, Aerosol, Cloud, ocean Ecosystem ([PACE](https://pace.gsfc.nasa.gov/)) data interactively with HyperCoast.\n",
    "\n",
    "## Environment setup\n",
    "\n",
    "Uncomment and run the following cell to install the required packages."
   ]
  },
  {
   "cell_type": "code",
   "execution_count": 8,
   "metadata": {},
   "outputs": [
    {
     "name": "stdout",
     "output_type": "stream",
     "text": [
      "Requirement already satisfied: hypercoast[extra] in c:\\users\\c00553090\\appdata\\local\\miniconda3\\envs\\hypercoast\\lib\\site-packages (0.8.0)\n",
      "Requirement already satisfied: dask in c:\\users\\c00553090\\appdata\\local\\miniconda3\\envs\\hypercoast\\lib\\site-packages (from hypercoast[extra]) (2024.9.0)\n",
      "Requirement already satisfied: earthaccess in c:\\users\\c00553090\\appdata\\local\\miniconda3\\envs\\hypercoast\\lib\\site-packages (from hypercoast[extra]) (0.10.0)\n",
      "Requirement already satisfied: geopandas in c:\\users\\c00553090\\appdata\\local\\miniconda3\\envs\\hypercoast\\lib\\site-packages (from hypercoast[extra]) (1.0.1)\n",
      "Requirement already satisfied: h5netcdf in c:\\users\\c00553090\\appdata\\local\\miniconda3\\envs\\hypercoast\\lib\\site-packages (from hypercoast[extra]) (1.3.0)\n",
      "Requirement already satisfied: hvplot in c:\\users\\c00553090\\appdata\\local\\miniconda3\\envs\\hypercoast\\lib\\site-packages (from hypercoast[extra]) (0.10.0)\n",
      "Requirement already satisfied: leafmap>=0.37.1 in c:\\users\\c00553090\\appdata\\local\\miniconda3\\envs\\hypercoast\\lib\\site-packages (from hypercoast[extra]) (0.37.3)\n",
      "Requirement already satisfied: localtileserver in c:\\users\\c00553090\\appdata\\local\\miniconda3\\envs\\hypercoast\\lib\\site-packages (from hypercoast[extra]) (0.10.3)\n",
      "Requirement already satisfied: mapclassify in c:\\users\\c00553090\\appdata\\local\\miniconda3\\envs\\hypercoast\\lib\\site-packages (from hypercoast[extra]) (2.8.0)\n",
      "Requirement already satisfied: netcdf4 in c:\\users\\c00553090\\appdata\\local\\miniconda3\\envs\\hypercoast\\lib\\site-packages (from hypercoast[extra]) (1.7.1)\n",
      "Requirement already satisfied: numpy<2.0.0 in c:\\users\\c00553090\\appdata\\local\\miniconda3\\envs\\hypercoast\\lib\\site-packages (from hypercoast[extra]) (1.26.4)\n",
      "Requirement already satisfied: rioxarray in c:\\users\\c00553090\\appdata\\local\\miniconda3\\envs\\hypercoast\\lib\\site-packages (from hypercoast[extra]) (0.17.0)\n",
      "Requirement already satisfied: s3fs in c:\\users\\c00553090\\appdata\\local\\miniconda3\\envs\\hypercoast\\lib\\site-packages (from hypercoast[extra]) (2024.9.0)\n",
      "Requirement already satisfied: scikit-learn in c:\\users\\c00553090\\appdata\\local\\miniconda3\\envs\\hypercoast\\lib\\site-packages (from hypercoast[extra]) (1.5.2)\n",
      "Requirement already satisfied: scipy in c:\\users\\c00553090\\appdata\\local\\miniconda3\\envs\\hypercoast\\lib\\site-packages (from hypercoast[extra]) (1.14.1)\n",
      "Requirement already satisfied: xarray in c:\\users\\c00553090\\appdata\\local\\miniconda3\\envs\\hypercoast\\lib\\site-packages (from hypercoast[extra]) (2024.9.0)\n",
      "Requirement already satisfied: cartopy in c:\\users\\c00553090\\appdata\\local\\miniconda3\\envs\\hypercoast\\lib\\site-packages (from hypercoast[extra]) (0.23.0)\n",
      "Requirement already satisfied: fiona in c:\\users\\c00553090\\appdata\\local\\miniconda3\\envs\\hypercoast\\lib\\site-packages (from hypercoast[extra]) (1.9.4)\n",
      "Requirement already satisfied: openpyxl in c:\\users\\c00553090\\appdata\\local\\miniconda3\\envs\\hypercoast\\lib\\site-packages (from hypercoast[extra]) (3.1.5)\n",
      "Requirement already satisfied: pyvista[jupyter] in c:\\users\\c00553090\\appdata\\local\\miniconda3\\envs\\hypercoast\\lib\\site-packages (from hypercoast[extra]) (0.44.1)\n",
      "Requirement already satisfied: anywidget>=0.9.13 in c:\\users\\c00553090\\appdata\\local\\miniconda3\\envs\\hypercoast\\lib\\site-packages (from leafmap>=0.37.1->hypercoast[extra]) (0.9.13)\n",
      "Requirement already satisfied: bqplot>=0.12.43 in c:\\users\\c00553090\\appdata\\local\\miniconda3\\envs\\hypercoast\\lib\\site-packages (from leafmap>=0.37.1->hypercoast[extra]) (0.12.43)\n",
      "Requirement already satisfied: colour>=0.1.5 in c:\\users\\c00553090\\appdata\\local\\miniconda3\\envs\\hypercoast\\lib\\site-packages (from leafmap>=0.37.1->hypercoast[extra]) (0.1.5)\n",
      "Requirement already satisfied: duckdb>=0.10.3 in c:\\users\\c00553090\\appdata\\local\\miniconda3\\envs\\hypercoast\\lib\\site-packages (from leafmap>=0.37.1->hypercoast[extra]) (1.0.0)\n",
      "Requirement already satisfied: folium>=0.14.0 in c:\\users\\c00553090\\appdata\\local\\miniconda3\\envs\\hypercoast\\lib\\site-packages (from leafmap>=0.37.1->hypercoast[extra]) (0.17.0)\n",
      "Requirement already satisfied: gdown>=5.1.0 in c:\\users\\c00553090\\appdata\\local\\miniconda3\\envs\\hypercoast\\lib\\site-packages (from leafmap>=0.37.1->hypercoast[extra]) (5.2.0)\n",
      "Requirement already satisfied: geojson>=3.1.0 in c:\\users\\c00553090\\appdata\\local\\miniconda3\\envs\\hypercoast\\lib\\site-packages (from leafmap>=0.37.1->hypercoast[extra]) (3.1.0)\n",
      "Requirement already satisfied: ipyevents>=2.0.2 in c:\\users\\c00553090\\appdata\\local\\miniconda3\\envs\\hypercoast\\lib\\site-packages (from leafmap>=0.37.1->hypercoast[extra]) (2.0.2)\n",
      "Requirement already satisfied: ipyfilechooser>=0.6.0 in c:\\users\\c00553090\\appdata\\local\\miniconda3\\envs\\hypercoast\\lib\\site-packages (from leafmap>=0.37.1->hypercoast[extra]) (0.6.0)\n",
      "Requirement already satisfied: ipyleaflet>=0.18.2 in c:\\users\\c00553090\\appdata\\local\\miniconda3\\envs\\hypercoast\\lib\\site-packages (from leafmap>=0.37.1->hypercoast[extra]) (0.19.2)\n",
      "Requirement already satisfied: ipyvuetify>=1.9.4 in c:\\users\\c00553090\\appdata\\local\\miniconda3\\envs\\hypercoast\\lib\\site-packages (from leafmap>=0.37.1->hypercoast[extra]) (1.10.0)\n",
      "Requirement already satisfied: ipywidgets>=7.6.0 in c:\\users\\c00553090\\appdata\\local\\miniconda3\\envs\\hypercoast\\lib\\site-packages (from leafmap>=0.37.1->hypercoast[extra]) (8.1.5)\n",
      "Requirement already satisfied: matplotlib>=3.7.1 in c:\\users\\c00553090\\appdata\\local\\miniconda3\\envs\\hypercoast\\lib\\site-packages (from leafmap>=0.37.1->hypercoast[extra]) (3.9.2)\n",
      "Requirement already satisfied: pandas>=2.0.3 in c:\\users\\c00553090\\appdata\\local\\miniconda3\\envs\\hypercoast\\lib\\site-packages (from leafmap>=0.37.1->hypercoast[extra]) (2.2.2)\n",
      "Requirement already satisfied: plotly>=5.15.0 in c:\\users\\c00553090\\appdata\\local\\miniconda3\\envs\\hypercoast\\lib\\site-packages (from leafmap>=0.37.1->hypercoast[extra]) (5.24.1)\n",
      "Requirement already satisfied: pyshp>=2.3.1 in c:\\users\\c00553090\\appdata\\local\\miniconda3\\envs\\hypercoast\\lib\\site-packages (from leafmap>=0.37.1->hypercoast[extra]) (2.3.1)\n",
      "Requirement already satisfied: pystac-client>=0.8.2 in c:\\users\\c00553090\\appdata\\local\\miniconda3\\envs\\hypercoast\\lib\\site-packages (from leafmap>=0.37.1->hypercoast[extra]) (0.8.3)\n",
      "Requirement already satisfied: python-box>=7.2.0 in c:\\users\\c00553090\\appdata\\local\\miniconda3\\envs\\hypercoast\\lib\\site-packages (from leafmap>=0.37.1->hypercoast[extra]) (7.2.0)\n",
      "Requirement already satisfied: scooby>=0.10.0 in c:\\users\\c00553090\\appdata\\local\\miniconda3\\envs\\hypercoast\\lib\\site-packages (from leafmap>=0.37.1->hypercoast[extra]) (0.10.0)\n",
      "Requirement already satisfied: whiteboxgui>=2.3.0 in c:\\users\\c00553090\\appdata\\local\\miniconda3\\envs\\hypercoast\\lib\\site-packages (from leafmap>=0.37.1->hypercoast[extra]) (2.3.0)\n",
      "Requirement already satisfied: xyzservices>=2024.6.0 in c:\\users\\c00553090\\appdata\\local\\miniconda3\\envs\\hypercoast\\lib\\site-packages (from leafmap>=0.37.1->hypercoast[extra]) (2024.9.0)\n",
      "Requirement already satisfied: shapely>=1.7 in c:\\users\\c00553090\\appdata\\local\\miniconda3\\envs\\hypercoast\\lib\\site-packages (from cartopy->hypercoast[extra]) (2.0.2)\n",
      "Requirement already satisfied: packaging>=20 in c:\\users\\c00553090\\appdata\\local\\miniconda3\\envs\\hypercoast\\lib\\site-packages (from cartopy->hypercoast[extra]) (24.1)\n",
      "Requirement already satisfied: pyproj>=3.3.1 in c:\\users\\c00553090\\appdata\\local\\miniconda3\\envs\\hypercoast\\lib\\site-packages (from cartopy->hypercoast[extra]) (3.6.1)\n",
      "Requirement already satisfied: click>=8.1 in c:\\users\\c00553090\\appdata\\local\\miniconda3\\envs\\hypercoast\\lib\\site-packages (from dask->hypercoast[extra]) (8.1.7)\n",
      "Requirement already satisfied: cloudpickle>=3.0.0 in c:\\users\\c00553090\\appdata\\local\\miniconda3\\envs\\hypercoast\\lib\\site-packages (from dask->hypercoast[extra]) (3.0.0)\n",
      "Requirement already satisfied: fsspec>=2021.09.0 in c:\\users\\c00553090\\appdata\\local\\miniconda3\\envs\\hypercoast\\lib\\site-packages (from dask->hypercoast[extra]) (2024.9.0)\n",
      "Requirement already satisfied: partd>=1.4.0 in c:\\users\\c00553090\\appdata\\local\\miniconda3\\envs\\hypercoast\\lib\\site-packages (from dask->hypercoast[extra]) (1.4.2)\n",
      "Requirement already satisfied: pyyaml>=5.3.1 in c:\\users\\c00553090\\appdata\\local\\miniconda3\\envs\\hypercoast\\lib\\site-packages (from dask->hypercoast[extra]) (6.0.2)\n",
      "Requirement already satisfied: toolz>=0.10.0 in c:\\users\\c00553090\\appdata\\local\\miniconda3\\envs\\hypercoast\\lib\\site-packages (from dask->hypercoast[extra]) (0.12.1)\n",
      "Requirement already satisfied: importlib-metadata>=4.13.0 in c:\\users\\c00553090\\appdata\\local\\miniconda3\\envs\\hypercoast\\lib\\site-packages (from dask->hypercoast[extra]) (8.5.0)\n",
      "Requirement already satisfied: importlib-resources>=6.3.2 in c:\\users\\c00553090\\appdata\\local\\miniconda3\\envs\\hypercoast\\lib\\site-packages (from earthaccess->hypercoast[extra]) (6.4.5)\n",
      "Requirement already satisfied: multimethod>=1.8 in c:\\users\\c00553090\\appdata\\local\\miniconda3\\envs\\hypercoast\\lib\\site-packages (from earthaccess->hypercoast[extra]) (1.12)\n",
      "Requirement already satisfied: pqdm>=0.1 in c:\\users\\c00553090\\appdata\\local\\miniconda3\\envs\\hypercoast\\lib\\site-packages (from earthaccess->hypercoast[extra]) (0.2.0)\n",
      "Requirement already satisfied: python-cmr>=0.10.0 in c:\\users\\c00553090\\appdata\\local\\miniconda3\\envs\\hypercoast\\lib\\site-packages (from earthaccess->hypercoast[extra]) (0.13.0)\n",
      "Requirement already satisfied: requests>=2.26 in c:\\users\\c00553090\\appdata\\local\\miniconda3\\envs\\hypercoast\\lib\\site-packages (from earthaccess->hypercoast[extra]) (2.32.3)\n",
      "Requirement already satisfied: tinynetrc<2.0.0,>=1.3.1 in c:\\users\\c00553090\\appdata\\local\\miniconda3\\envs\\hypercoast\\lib\\site-packages (from earthaccess->hypercoast[extra]) (1.3.1)\n",
      "Requirement already satisfied: typing_extensions>=4.10.0 in c:\\users\\c00553090\\appdata\\local\\miniconda3\\envs\\hypercoast\\lib\\site-packages (from earthaccess->hypercoast[extra]) (4.12.2)\n",
      "Requirement already satisfied: aiobotocore<3.0.0,>=2.5.4 in c:\\users\\c00553090\\appdata\\local\\miniconda3\\envs\\hypercoast\\lib\\site-packages (from s3fs->hypercoast[extra]) (2.15.0)\n",
      "Requirement already satisfied: aiohttp!=4.0.0a0,!=4.0.0a1 in c:\\users\\c00553090\\appdata\\local\\miniconda3\\envs\\hypercoast\\lib\\site-packages (from s3fs->hypercoast[extra]) (3.10.5)\n",
      "Requirement already satisfied: attrs>=19.2.0 in c:\\users\\c00553090\\appdata\\local\\miniconda3\\envs\\hypercoast\\lib\\site-packages (from fiona->hypercoast[extra]) (24.2.0)\n",
      "Requirement already satisfied: certifi in c:\\users\\c00553090\\appdata\\local\\miniconda3\\envs\\hypercoast\\lib\\site-packages (from fiona->hypercoast[extra]) (2024.8.30)\n",
      "Requirement already satisfied: click-plugins>=1.0 in c:\\users\\c00553090\\appdata\\local\\miniconda3\\envs\\hypercoast\\lib\\site-packages (from fiona->hypercoast[extra]) (1.1.1)\n",
      "Requirement already satisfied: cligj>=0.5 in c:\\users\\c00553090\\appdata\\local\\miniconda3\\envs\\hypercoast\\lib\\site-packages (from fiona->hypercoast[extra]) (0.7.2)\n",
      "Requirement already satisfied: six in c:\\users\\c00553090\\appdata\\local\\miniconda3\\envs\\hypercoast\\lib\\site-packages (from fiona->hypercoast[extra]) (1.16.0)\n",
      "Requirement already satisfied: pyogrio>=0.7.2 in c:\\users\\c00553090\\appdata\\local\\miniconda3\\envs\\hypercoast\\lib\\site-packages (from geopandas->hypercoast[extra]) (0.7.2)\n",
      "Requirement already satisfied: h5py in c:\\users\\c00553090\\appdata\\local\\miniconda3\\envs\\hypercoast\\lib\\site-packages (from h5netcdf->hypercoast[extra]) (3.11.0)\n",
      "Requirement already satisfied: bokeh>=1.0.0 in c:\\users\\c00553090\\appdata\\local\\miniconda3\\envs\\hypercoast\\lib\\site-packages (from hvplot->hypercoast[extra]) (3.4.2)\n",
      "Requirement already satisfied: colorcet>=2 in c:\\users\\c00553090\\appdata\\local\\miniconda3\\envs\\hypercoast\\lib\\site-packages (from hvplot->hypercoast[extra]) (3.1.0)\n",
      "Requirement already satisfied: holoviews>=1.11.0 in c:\\users\\c00553090\\appdata\\local\\miniconda3\\envs\\hypercoast\\lib\\site-packages (from hvplot->hypercoast[extra]) (1.19.1)\n",
      "Requirement already satisfied: panel>=0.11.0 in c:\\users\\c00553090\\appdata\\local\\miniconda3\\envs\\hypercoast\\lib\\site-packages (from hvplot->hypercoast[extra]) (1.4.5)\n",
      "Requirement already satisfied: param<3.0,>=1.12.0 in c:\\users\\c00553090\\appdata\\local\\miniconda3\\envs\\hypercoast\\lib\\site-packages (from hvplot->hypercoast[extra]) (2.1.1)\n",
      "Requirement already satisfied: flask<4,>=2.0.0 in c:\\users\\c00553090\\appdata\\local\\miniconda3\\envs\\hypercoast\\lib\\site-packages (from localtileserver->hypercoast[extra]) (2.3.3)\n",
      "Requirement already satisfied: Flask-Caching in c:\\users\\c00553090\\appdata\\local\\miniconda3\\envs\\hypercoast\\lib\\site-packages (from localtileserver->hypercoast[extra]) (2.1.0)\n",
      "Requirement already satisfied: flask-cors in c:\\users\\c00553090\\appdata\\local\\miniconda3\\envs\\hypercoast\\lib\\site-packages (from localtileserver->hypercoast[extra]) (5.0.0)\n",
      "Requirement already satisfied: flask-restx>=0.5.0 in c:\\users\\c00553090\\appdata\\local\\miniconda3\\envs\\hypercoast\\lib\\site-packages (from localtileserver->hypercoast[extra]) (1.1.0)\n",
      "Requirement already satisfied: rio-tiler in c:\\users\\c00553090\\appdata\\local\\miniconda3\\envs\\hypercoast\\lib\\site-packages (from localtileserver->hypercoast[extra]) (6.7.0)\n",
      "Requirement already satisfied: rio-cogeo in c:\\users\\c00553090\\appdata\\local\\miniconda3\\envs\\hypercoast\\lib\\site-packages (from localtileserver->hypercoast[extra]) (5.3.4)\n",
      "Requirement already satisfied: server-thread in c:\\users\\c00553090\\appdata\\local\\miniconda3\\envs\\hypercoast\\lib\\site-packages (from localtileserver->hypercoast[extra]) (0.2.0)\n",
      "Requirement already satisfied: werkzeug in c:\\users\\c00553090\\appdata\\local\\miniconda3\\envs\\hypercoast\\lib\\site-packages (from localtileserver->hypercoast[extra]) (3.0.4)\n",
      "Requirement already satisfied: networkx>=2.7 in c:\\users\\c00553090\\appdata\\local\\miniconda3\\envs\\hypercoast\\lib\\site-packages (from mapclassify->hypercoast[extra]) (3.3)\n",
      "Requirement already satisfied: joblib>=1.2.0 in c:\\users\\c00553090\\appdata\\local\\miniconda3\\envs\\hypercoast\\lib\\site-packages (from scikit-learn->hypercoast[extra]) (1.4.2)\n",
      "Requirement already satisfied: threadpoolctl>=3.1.0 in c:\\users\\c00553090\\appdata\\local\\miniconda3\\envs\\hypercoast\\lib\\site-packages (from scikit-learn->hypercoast[extra]) (3.5.0)\n",
      "Requirement already satisfied: cftime in c:\\users\\c00553090\\appdata\\local\\miniconda3\\envs\\hypercoast\\lib\\site-packages (from netcdf4->hypercoast[extra]) (1.6.4)\n",
      "Requirement already satisfied: et-xmlfile in c:\\users\\c00553090\\appdata\\local\\miniconda3\\envs\\hypercoast\\lib\\site-packages (from openpyxl->hypercoast[extra]) (1.1.0)\n",
      "Requirement already satisfied: pillow in c:\\users\\c00553090\\appdata\\local\\miniconda3\\envs\\hypercoast\\lib\\site-packages (from pyvista[jupyter]; extra == \"extra\"->hypercoast[extra]) (10.4.0)\n",
      "Requirement already satisfied: pooch in c:\\users\\c00553090\\appdata\\local\\miniconda3\\envs\\hypercoast\\lib\\site-packages (from pyvista[jupyter]; extra == \"extra\"->hypercoast[extra]) (1.8.2)\n",
      "Requirement already satisfied: vtk in c:\\users\\c00553090\\appdata\\local\\miniconda3\\envs\\hypercoast\\lib\\site-packages (from pyvista[jupyter]; extra == \"extra\"->hypercoast[extra]) (9.3.1)\n",
      "Requirement already satisfied: jupyter-server-proxy in c:\\users\\c00553090\\appdata\\local\\miniconda3\\envs\\hypercoast\\lib\\site-packages (from pyvista[jupyter]; extra == \"extra\"->hypercoast[extra]) (4.4.0)\n",
      "Requirement already satisfied: nest-asyncio in c:\\users\\c00553090\\appdata\\local\\miniconda3\\envs\\hypercoast\\lib\\site-packages (from pyvista[jupyter]; extra == \"extra\"->hypercoast[extra]) (1.6.0)\n",
      "Requirement already satisfied: trame>=2.5.2 in c:\\users\\c00553090\\appdata\\local\\miniconda3\\envs\\hypercoast\\lib\\site-packages (from pyvista[jupyter]; extra == \"extra\"->hypercoast[extra]) (3.6.5)\n",
      "Requirement already satisfied: trame-client>=2.12.7 in c:\\users\\c00553090\\appdata\\local\\miniconda3\\envs\\hypercoast\\lib\\site-packages (from pyvista[jupyter]; extra == \"extra\"->hypercoast[extra]) (3.2.5)\n",
      "Requirement already satisfied: trame-server>=2.11.7 in c:\\users\\c00553090\\appdata\\local\\miniconda3\\envs\\hypercoast\\lib\\site-packages (from pyvista[jupyter]; extra == \"extra\"->hypercoast[extra]) (3.2.0)\n",
      "Requirement already satisfied: trame-vtk>=2.5.8 in c:\\users\\c00553090\\appdata\\local\\miniconda3\\envs\\hypercoast\\lib\\site-packages (from pyvista[jupyter]; extra == \"extra\"->hypercoast[extra]) (2.8.10)\n",
      "Requirement already satisfied: trame-vuetify>=2.3.1 in c:\\users\\c00553090\\appdata\\local\\miniconda3\\envs\\hypercoast\\lib\\site-packages (from pyvista[jupyter]; extra == \"extra\"->hypercoast[extra]) (2.7.1)\n",
      "Requirement already satisfied: rasterio>=1.3 in c:\\users\\c00553090\\appdata\\local\\miniconda3\\envs\\hypercoast\\lib\\site-packages (from rioxarray->hypercoast[extra]) (1.3.9)\n",
      "Requirement already satisfied: botocore<1.35.17,>=1.35.16 in c:\\users\\c00553090\\appdata\\local\\miniconda3\\envs\\hypercoast\\lib\\site-packages (from aiobotocore<3.0.0,>=2.5.4->s3fs->hypercoast[extra]) (1.35.16)\n",
      "Requirement already satisfied: wrapt<2.0.0,>=1.10.10 in c:\\users\\c00553090\\appdata\\local\\miniconda3\\envs\\hypercoast\\lib\\site-packages (from aiobotocore<3.0.0,>=2.5.4->s3fs->hypercoast[extra]) (1.16.0)\n",
      "Requirement already satisfied: aioitertools<1.0.0,>=0.5.1 in c:\\users\\c00553090\\appdata\\local\\miniconda3\\envs\\hypercoast\\lib\\site-packages (from aiobotocore<3.0.0,>=2.5.4->s3fs->hypercoast[extra]) (0.11.0)\n",
      "Requirement already satisfied: aiohappyeyeballs>=2.3.0 in c:\\users\\c00553090\\appdata\\local\\miniconda3\\envs\\hypercoast\\lib\\site-packages (from aiohttp!=4.0.0a0,!=4.0.0a1->s3fs->hypercoast[extra]) (2.4.0)\n",
      "Requirement already satisfied: aiosignal>=1.1.2 in c:\\users\\c00553090\\appdata\\local\\miniconda3\\envs\\hypercoast\\lib\\site-packages (from aiohttp!=4.0.0a0,!=4.0.0a1->s3fs->hypercoast[extra]) (1.3.1)\n",
      "Requirement already satisfied: frozenlist>=1.1.1 in c:\\users\\c00553090\\appdata\\local\\miniconda3\\envs\\hypercoast\\lib\\site-packages (from aiohttp!=4.0.0a0,!=4.0.0a1->s3fs->hypercoast[extra]) (1.4.1)\n",
      "Requirement already satisfied: multidict<7.0,>=4.5 in c:\\users\\c00553090\\appdata\\local\\miniconda3\\envs\\hypercoast\\lib\\site-packages (from aiohttp!=4.0.0a0,!=4.0.0a1->s3fs->hypercoast[extra]) (6.1.0)\n",
      "Requirement already satisfied: yarl<2.0,>=1.0 in c:\\users\\c00553090\\appdata\\local\\miniconda3\\envs\\hypercoast\\lib\\site-packages (from aiohttp!=4.0.0a0,!=4.0.0a1->s3fs->hypercoast[extra]) (1.9.4)\n",
      "Requirement already satisfied: async-timeout<5.0,>=4.0 in c:\\users\\c00553090\\appdata\\local\\miniconda3\\envs\\hypercoast\\lib\\site-packages (from aiohttp!=4.0.0a0,!=4.0.0a1->s3fs->hypercoast[extra]) (4.0.3)\n",
      "Requirement already satisfied: psygnal>=0.8.1 in c:\\users\\c00553090\\appdata\\local\\miniconda3\\envs\\hypercoast\\lib\\site-packages (from anywidget>=0.9.13->leafmap>=0.37.1->hypercoast[extra]) (0.11.1)\n",
      "Requirement already satisfied: Jinja2>=2.9 in c:\\users\\c00553090\\appdata\\local\\miniconda3\\envs\\hypercoast\\lib\\site-packages (from bokeh>=1.0.0->hvplot->hypercoast[extra]) (3.1.4)\n",
      "Requirement already satisfied: contourpy>=1.2 in c:\\users\\c00553090\\appdata\\local\\miniconda3\\envs\\hypercoast\\lib\\site-packages (from bokeh>=1.0.0->hvplot->hypercoast[extra]) (1.3.0)\n",
      "Requirement already satisfied: tornado>=6.2 in c:\\users\\c00553090\\appdata\\local\\miniconda3\\envs\\hypercoast\\lib\\site-packages (from bokeh>=1.0.0->hvplot->hypercoast[extra]) (6.4.1)\n",
      "Requirement already satisfied: traitlets>=4.3.0 in c:\\users\\c00553090\\appdata\\local\\miniconda3\\envs\\hypercoast\\lib\\site-packages (from bqplot>=0.12.43->leafmap>=0.37.1->hypercoast[extra]) (5.14.3)\n",
      "Requirement already satisfied: traittypes>=0.0.6 in c:\\users\\c00553090\\appdata\\local\\miniconda3\\envs\\hypercoast\\lib\\site-packages (from bqplot>=0.12.43->leafmap>=0.37.1->hypercoast[extra]) (0.2.1)\n",
      "Requirement already satisfied: colorama in c:\\users\\c00553090\\appdata\\local\\miniconda3\\envs\\hypercoast\\lib\\site-packages (from click>=8.1->dask->hypercoast[extra]) (0.4.6)\n",
      "Requirement already satisfied: itsdangerous>=2.1.2 in c:\\users\\c00553090\\appdata\\local\\miniconda3\\envs\\hypercoast\\lib\\site-packages (from flask<4,>=2.0.0->localtileserver->hypercoast[extra]) (2.2.0)\n",
      "Requirement already satisfied: blinker>=1.6.2 in c:\\users\\c00553090\\appdata\\local\\miniconda3\\envs\\hypercoast\\lib\\site-packages (from flask<4,>=2.0.0->localtileserver->hypercoast[extra]) (1.8.2)\n",
      "Requirement already satisfied: aniso8601>=0.82 in c:\\users\\c00553090\\appdata\\local\\miniconda3\\envs\\hypercoast\\lib\\site-packages (from flask-restx>=0.5.0->localtileserver->hypercoast[extra]) (9.0.1)\n",
      "Requirement already satisfied: jsonschema in c:\\users\\c00553090\\appdata\\local\\miniconda3\\envs\\hypercoast\\lib\\site-packages (from flask-restx>=0.5.0->localtileserver->hypercoast[extra]) (4.23.0)\n",
      "Requirement already satisfied: pytz in c:\\users\\c00553090\\appdata\\local\\miniconda3\\envs\\hypercoast\\lib\\site-packages (from flask-restx>=0.5.0->localtileserver->hypercoast[extra]) (2024.2)\n",
      "Requirement already satisfied: branca>=0.6.0 in c:\\users\\c00553090\\appdata\\local\\miniconda3\\envs\\hypercoast\\lib\\site-packages (from folium>=0.14.0->leafmap>=0.37.1->hypercoast[extra]) (0.7.2)\n",
      "Requirement already satisfied: beautifulsoup4 in c:\\users\\c00553090\\appdata\\local\\miniconda3\\envs\\hypercoast\\lib\\site-packages (from gdown>=5.1.0->leafmap>=0.37.1->hypercoast[extra]) (4.12.3)\n",
      "Requirement already satisfied: filelock in c:\\users\\c00553090\\appdata\\local\\miniconda3\\envs\\hypercoast\\lib\\site-packages (from gdown>=5.1.0->leafmap>=0.37.1->hypercoast[extra]) (3.16.0)\n",
      "Requirement already satisfied: tqdm in c:\\users\\c00553090\\appdata\\local\\miniconda3\\envs\\hypercoast\\lib\\site-packages (from gdown>=5.1.0->leafmap>=0.37.1->hypercoast[extra]) (4.66.5)\n",
      "Requirement already satisfied: pyviz-comms>=2.1 in c:\\users\\c00553090\\appdata\\local\\miniconda3\\envs\\hypercoast\\lib\\site-packages (from holoviews>=1.11.0->hvplot->hypercoast[extra]) (3.0.3)\n",
      "Requirement already satisfied: zipp>=3.20 in c:\\users\\c00553090\\appdata\\local\\miniconda3\\envs\\hypercoast\\lib\\site-packages (from importlib-metadata>=4.13.0->dask->hypercoast[extra]) (3.20.2)\n",
      "Requirement already satisfied: jupyter-leaflet<0.20,>=0.19 in c:\\users\\c00553090\\appdata\\local\\miniconda3\\envs\\hypercoast\\lib\\site-packages (from ipyleaflet>=0.18.2->leafmap>=0.37.1->hypercoast[extra]) (0.19.2)\n",
      "Requirement already satisfied: ipyvue<2,>=1.7 in c:\\users\\c00553090\\appdata\\local\\miniconda3\\envs\\hypercoast\\lib\\site-packages (from ipyvuetify>=1.9.4->leafmap>=0.37.1->hypercoast[extra]) (1.11.0)\n",
      "Requirement already satisfied: comm>=0.1.3 in c:\\users\\c00553090\\appdata\\local\\miniconda3\\envs\\hypercoast\\lib\\site-packages (from ipywidgets>=7.6.0->leafmap>=0.37.1->hypercoast[extra]) (0.2.2)\n",
      "Requirement already satisfied: ipython>=6.1.0 in c:\\users\\c00553090\\appdata\\local\\miniconda3\\envs\\hypercoast\\lib\\site-packages (from ipywidgets>=7.6.0->leafmap>=0.37.1->hypercoast[extra]) (8.27.0)\n",
      "Requirement already satisfied: widgetsnbextension~=4.0.12 in c:\\users\\c00553090\\appdata\\local\\miniconda3\\envs\\hypercoast\\lib\\site-packages (from ipywidgets>=7.6.0->leafmap>=0.37.1->hypercoast[extra]) (4.0.13)\n",
      "Requirement already satisfied: jupyterlab-widgets~=3.0.12 in c:\\users\\c00553090\\appdata\\local\\miniconda3\\envs\\hypercoast\\lib\\site-packages (from ipywidgets>=7.6.0->leafmap>=0.37.1->hypercoast[extra]) (3.0.13)\n",
      "Requirement already satisfied: cycler>=0.10 in c:\\users\\c00553090\\appdata\\local\\miniconda3\\envs\\hypercoast\\lib\\site-packages (from matplotlib>=3.7.1->leafmap>=0.37.1->hypercoast[extra]) (0.12.1)\n",
      "Requirement already satisfied: fonttools>=4.22.0 in c:\\users\\c00553090\\appdata\\local\\miniconda3\\envs\\hypercoast\\lib\\site-packages (from matplotlib>=3.7.1->leafmap>=0.37.1->hypercoast[extra]) (4.53.1)\n",
      "Requirement already satisfied: kiwisolver>=1.3.1 in c:\\users\\c00553090\\appdata\\local\\miniconda3\\envs\\hypercoast\\lib\\site-packages (from matplotlib>=3.7.1->leafmap>=0.37.1->hypercoast[extra]) (1.4.7)\n",
      "Requirement already satisfied: pyparsing>=2.3.1 in c:\\users\\c00553090\\appdata\\local\\miniconda3\\envs\\hypercoast\\lib\\site-packages (from matplotlib>=3.7.1->leafmap>=0.37.1->hypercoast[extra]) (3.1.4)\n",
      "Requirement already satisfied: python-dateutil>=2.7 in c:\\users\\c00553090\\appdata\\local\\miniconda3\\envs\\hypercoast\\lib\\site-packages (from matplotlib>=3.7.1->leafmap>=0.37.1->hypercoast[extra]) (2.9.0)\n",
      "Requirement already satisfied: tzdata>=2022.7 in c:\\users\\c00553090\\appdata\\local\\miniconda3\\envs\\hypercoast\\lib\\site-packages (from pandas>=2.0.3->leafmap>=0.37.1->hypercoast[extra]) (2024.1)\n",
      "Requirement already satisfied: markdown in c:\\users\\c00553090\\appdata\\local\\miniconda3\\envs\\hypercoast\\lib\\site-packages (from panel>=0.11.0->hvplot->hypercoast[extra]) (3.6)\n",
      "Requirement already satisfied: markdown-it-py in c:\\users\\c00553090\\appdata\\local\\miniconda3\\envs\\hypercoast\\lib\\site-packages (from panel>=0.11.0->hvplot->hypercoast[extra]) (3.0.0)\n",
      "Requirement already satisfied: linkify-it-py in c:\\users\\c00553090\\appdata\\local\\miniconda3\\envs\\hypercoast\\lib\\site-packages (from panel>=0.11.0->hvplot->hypercoast[extra]) (2.0.3)\n",
      "Requirement already satisfied: mdit-py-plugins in c:\\users\\c00553090\\appdata\\local\\miniconda3\\envs\\hypercoast\\lib\\site-packages (from panel>=0.11.0->hvplot->hypercoast[extra]) (0.4.2)\n",
      "Requirement already satisfied: bleach in c:\\users\\c00553090\\appdata\\local\\miniconda3\\envs\\hypercoast\\lib\\site-packages (from panel>=0.11.0->hvplot->hypercoast[extra]) (6.1.0)\n",
      "Requirement already satisfied: locket in c:\\users\\c00553090\\appdata\\local\\miniconda3\\envs\\hypercoast\\lib\\site-packages (from partd>=1.4.0->dask->hypercoast[extra]) (1.0.0)\n",
      "Requirement already satisfied: tenacity>=6.2.0 in c:\\users\\c00553090\\appdata\\local\\miniconda3\\envs\\hypercoast\\lib\\site-packages (from plotly>=5.15.0->leafmap>=0.37.1->hypercoast[extra]) (9.0.0)\n",
      "Requirement already satisfied: bounded-pool-executor in c:\\users\\c00553090\\appdata\\local\\miniconda3\\envs\\hypercoast\\lib\\site-packages (from pqdm>=0.1->earthaccess->hypercoast[extra]) (0.0.3)\n",
      "Requirement already satisfied: pystac>=1.10.0 in c:\\users\\c00553090\\appdata\\local\\miniconda3\\envs\\hypercoast\\lib\\site-packages (from pystac[validation]>=1.10.0->pystac-client>=0.8.2->leafmap>=0.37.1->hypercoast[extra]) (1.10.1)\n",
      "Requirement already satisfied: affine in c:\\users\\c00553090\\appdata\\local\\miniconda3\\envs\\hypercoast\\lib\\site-packages (from rasterio>=1.3->rioxarray->hypercoast[extra]) (2.4.0)\n",
      "Requirement already satisfied: snuggs>=1.4.1 in c:\\users\\c00553090\\appdata\\local\\miniconda3\\envs\\hypercoast\\lib\\site-packages (from rasterio>=1.3->rioxarray->hypercoast[extra]) (1.4.7)\n",
      "Requirement already satisfied: setuptools in c:\\users\\c00553090\\appdata\\local\\miniconda3\\envs\\hypercoast\\lib\\site-packages (from rasterio>=1.3->rioxarray->hypercoast[extra]) (73.0.1)\n",
      "Requirement already satisfied: charset-normalizer<4,>=2 in c:\\users\\c00553090\\appdata\\local\\miniconda3\\envs\\hypercoast\\lib\\site-packages (from requests>=2.26->earthaccess->hypercoast[extra]) (3.3.2)\n",
      "Requirement already satisfied: idna<4,>=2.5 in c:\\users\\c00553090\\appdata\\local\\miniconda3\\envs\\hypercoast\\lib\\site-packages (from requests>=2.26->earthaccess->hypercoast[extra]) (3.9)\n",
      "Requirement already satisfied: urllib3<3,>=1.21.1 in c:\\users\\c00553090\\appdata\\local\\miniconda3\\envs\\hypercoast\\lib\\site-packages (from requests>=2.26->earthaccess->hypercoast[extra]) (2.2.2)\n",
      "Requirement already satisfied: wslink>=2.1.3 in c:\\users\\c00553090\\appdata\\local\\miniconda3\\envs\\hypercoast\\lib\\site-packages (from trame>=2.5.2->pyvista[jupyter]; extra == \"extra\"->hypercoast[extra]) (2.2.1)\n",
      "Requirement already satisfied: more-itertools in c:\\users\\c00553090\\appdata\\local\\miniconda3\\envs\\hypercoast\\lib\\site-packages (from trame-server>=2.11.7->pyvista[jupyter]; extra == \"extra\"->hypercoast[extra]) (10.5.0)\n",
      "Requirement already satisfied: MarkupSafe>=2.1.1 in c:\\users\\c00553090\\appdata\\local\\miniconda3\\envs\\hypercoast\\lib\\site-packages (from werkzeug->localtileserver->hypercoast[extra]) (2.1.5)\n",
      "Requirement already satisfied: ipytree in c:\\users\\c00553090\\appdata\\local\\miniconda3\\envs\\hypercoast\\lib\\site-packages (from whiteboxgui>=2.3.0->leafmap>=0.37.1->hypercoast[extra]) (0.2.2)\n",
      "Requirement already satisfied: whitebox in c:\\users\\c00553090\\appdata\\local\\miniconda3\\envs\\hypercoast\\lib\\site-packages (from whiteboxgui>=2.3.0->leafmap>=0.37.1->hypercoast[extra]) (2.3.5)\n",
      "Requirement already satisfied: cachelib<0.10.0,>=0.9.0 in c:\\users\\c00553090\\appdata\\local\\miniconda3\\envs\\hypercoast\\lib\\site-packages (from Flask-Caching->localtileserver->hypercoast[extra]) (0.9.0)\n",
      "Requirement already satisfied: jupyter-server>=1.24.0 in c:\\users\\c00553090\\appdata\\local\\miniconda3\\envs\\hypercoast\\lib\\site-packages (from jupyter-server-proxy->pyvista[jupyter]; extra == \"extra\"->hypercoast[extra]) (2.14.2)\n",
      "Requirement already satisfied: simpervisor>=1.0.0 in c:\\users\\c00553090\\appdata\\local\\miniconda3\\envs\\hypercoast\\lib\\site-packages (from jupyter-server-proxy->pyvista[jupyter]; extra == \"extra\"->hypercoast[extra]) (1.0.0)\n",
      "Requirement already satisfied: platformdirs>=2.5.0 in c:\\users\\c00553090\\appdata\\local\\miniconda3\\envs\\hypercoast\\lib\\site-packages (from pooch->pyvista[jupyter]; extra == \"extra\"->hypercoast[extra]) (3.11.0)\n",
      "Requirement already satisfied: morecantile<6.0,>=5.0 in c:\\users\\c00553090\\appdata\\local\\miniconda3\\envs\\hypercoast\\lib\\site-packages (from rio-cogeo->localtileserver->hypercoast[extra]) (5.4.2)\n",
      "Requirement already satisfied: pydantic~=2.0 in c:\\users\\c00553090\\appdata\\local\\miniconda3\\envs\\hypercoast\\lib\\site-packages (from rio-cogeo->localtileserver->hypercoast[extra]) (2.9.1)\n",
      "Requirement already satisfied: cachetools in c:\\users\\c00553090\\appdata\\local\\miniconda3\\envs\\hypercoast\\lib\\site-packages (from rio-tiler->localtileserver->hypercoast[extra]) (5.5.0)\n",
      "Requirement already satisfied: color-operations in c:\\users\\c00553090\\appdata\\local\\miniconda3\\envs\\hypercoast\\lib\\site-packages (from rio-tiler->localtileserver->hypercoast[extra]) (0.1.5)\n",
      "Requirement already satisfied: httpx in c:\\users\\c00553090\\appdata\\local\\miniconda3\\envs\\hypercoast\\lib\\site-packages (from rio-tiler->localtileserver->hypercoast[extra]) (0.27.2)\n",
      "Requirement already satisfied: numexpr in c:\\users\\c00553090\\appdata\\local\\miniconda3\\envs\\hypercoast\\lib\\site-packages (from rio-tiler->localtileserver->hypercoast[extra]) (2.7.3)\n",
      "Requirement already satisfied: uvicorn in c:\\users\\c00553090\\appdata\\local\\miniconda3\\envs\\hypercoast\\lib\\site-packages (from server-thread->localtileserver->hypercoast[extra]) (0.30.6)\n",
      "Requirement already satisfied: jmespath<2.0.0,>=0.7.1 in c:\\users\\c00553090\\appdata\\local\\miniconda3\\envs\\hypercoast\\lib\\site-packages (from botocore<1.35.17,>=1.35.16->aiobotocore<3.0.0,>=2.5.4->s3fs->hypercoast[extra]) (1.0.1)\n",
      "Requirement already satisfied: decorator in c:\\users\\c00553090\\appdata\\local\\miniconda3\\envs\\hypercoast\\lib\\site-packages (from ipython>=6.1.0->ipywidgets>=7.6.0->leafmap>=0.37.1->hypercoast[extra]) (5.1.1)\n",
      "Requirement already satisfied: jedi>=0.16 in c:\\users\\c00553090\\appdata\\local\\miniconda3\\envs\\hypercoast\\lib\\site-packages (from ipython>=6.1.0->ipywidgets>=7.6.0->leafmap>=0.37.1->hypercoast[extra]) (0.19.1)\n",
      "Requirement already satisfied: matplotlib-inline in c:\\users\\c00553090\\appdata\\local\\miniconda3\\envs\\hypercoast\\lib\\site-packages (from ipython>=6.1.0->ipywidgets>=7.6.0->leafmap>=0.37.1->hypercoast[extra]) (0.1.7)\n",
      "Requirement already satisfied: prompt-toolkit<3.1.0,>=3.0.41 in c:\\users\\c00553090\\appdata\\local\\miniconda3\\envs\\hypercoast\\lib\\site-packages (from ipython>=6.1.0->ipywidgets>=7.6.0->leafmap>=0.37.1->hypercoast[extra]) (3.0.47)\n",
      "Requirement already satisfied: pygments>=2.4.0 in c:\\users\\c00553090\\appdata\\local\\miniconda3\\envs\\hypercoast\\lib\\site-packages (from ipython>=6.1.0->ipywidgets>=7.6.0->leafmap>=0.37.1->hypercoast[extra]) (2.18.0)\n",
      "Requirement already satisfied: stack-data in c:\\users\\c00553090\\appdata\\local\\miniconda3\\envs\\hypercoast\\lib\\site-packages (from ipython>=6.1.0->ipywidgets>=7.6.0->leafmap>=0.37.1->hypercoast[extra]) (0.6.2)\n",
      "Requirement already satisfied: exceptiongroup in c:\\users\\c00553090\\appdata\\local\\miniconda3\\envs\\hypercoast\\lib\\site-packages (from ipython>=6.1.0->ipywidgets>=7.6.0->leafmap>=0.37.1->hypercoast[extra]) (1.2.2)\n",
      "Requirement already satisfied: anyio>=3.1.0 in c:\\users\\c00553090\\appdata\\local\\miniconda3\\envs\\hypercoast\\lib\\site-packages (from jupyter-server>=1.24.0->jupyter-server-proxy->pyvista[jupyter]; extra == \"extra\"->hypercoast[extra]) (4.4.0)\n",
      "Requirement already satisfied: argon2-cffi>=21.1 in c:\\users\\c00553090\\appdata\\local\\miniconda3\\envs\\hypercoast\\lib\\site-packages (from jupyter-server>=1.24.0->jupyter-server-proxy->pyvista[jupyter]; extra == \"extra\"->hypercoast[extra]) (23.1.0)\n",
      "Requirement already satisfied: jupyter-client>=7.4.4 in c:\\users\\c00553090\\appdata\\local\\miniconda3\\envs\\hypercoast\\lib\\site-packages (from jupyter-server>=1.24.0->jupyter-server-proxy->pyvista[jupyter]; extra == \"extra\"->hypercoast[extra]) (8.6.2)\n",
      "Requirement already satisfied: jupyter-core!=5.0.*,>=4.12 in c:\\users\\c00553090\\appdata\\local\\miniconda3\\envs\\hypercoast\\lib\\site-packages (from jupyter-server>=1.24.0->jupyter-server-proxy->pyvista[jupyter]; extra == \"extra\"->hypercoast[extra]) (5.7.2)\n",
      "Requirement already satisfied: jupyter-events>=0.9.0 in c:\\users\\c00553090\\appdata\\local\\miniconda3\\envs\\hypercoast\\lib\\site-packages (from jupyter-server>=1.24.0->jupyter-server-proxy->pyvista[jupyter]; extra == \"extra\"->hypercoast[extra]) (0.10.0)\n",
      "Requirement already satisfied: jupyter-server-terminals>=0.4.4 in c:\\users\\c00553090\\appdata\\local\\miniconda3\\envs\\hypercoast\\lib\\site-packages (from jupyter-server>=1.24.0->jupyter-server-proxy->pyvista[jupyter]; extra == \"extra\"->hypercoast[extra]) (0.5.3)\n",
      "Requirement already satisfied: nbconvert>=6.4.4 in c:\\users\\c00553090\\appdata\\local\\miniconda3\\envs\\hypercoast\\lib\\site-packages (from jupyter-server>=1.24.0->jupyter-server-proxy->pyvista[jupyter]; extra == \"extra\"->hypercoast[extra]) (7.16.4)\n",
      "Requirement already satisfied: nbformat>=5.3.0 in c:\\users\\c00553090\\appdata\\local\\miniconda3\\envs\\hypercoast\\lib\\site-packages (from jupyter-server>=1.24.0->jupyter-server-proxy->pyvista[jupyter]; extra == \"extra\"->hypercoast[extra]) (5.10.4)\n",
      "Requirement already satisfied: overrides>=5.0 in c:\\users\\c00553090\\appdata\\local\\miniconda3\\envs\\hypercoast\\lib\\site-packages (from jupyter-server>=1.24.0->jupyter-server-proxy->pyvista[jupyter]; extra == \"extra\"->hypercoast[extra]) (7.7.0)\n",
      "Requirement already satisfied: prometheus-client>=0.9 in c:\\users\\c00553090\\appdata\\local\\miniconda3\\envs\\hypercoast\\lib\\site-packages (from jupyter-server>=1.24.0->jupyter-server-proxy->pyvista[jupyter]; extra == \"extra\"->hypercoast[extra]) (0.20.0)\n",
      "Requirement already satisfied: pywinpty>=2.0.1 in c:\\users\\c00553090\\appdata\\local\\miniconda3\\envs\\hypercoast\\lib\\site-packages (from jupyter-server>=1.24.0->jupyter-server-proxy->pyvista[jupyter]; extra == \"extra\"->hypercoast[extra]) (2.0.13)\n",
      "Requirement already satisfied: pyzmq>=24 in c:\\users\\c00553090\\appdata\\local\\miniconda3\\envs\\hypercoast\\lib\\site-packages (from jupyter-server>=1.24.0->jupyter-server-proxy->pyvista[jupyter]; extra == \"extra\"->hypercoast[extra]) (26.2.0)\n",
      "Requirement already satisfied: send2trash>=1.8.2 in c:\\users\\c00553090\\appdata\\local\\miniconda3\\envs\\hypercoast\\lib\\site-packages (from jupyter-server>=1.24.0->jupyter-server-proxy->pyvista[jupyter]; extra == \"extra\"->hypercoast[extra]) (1.8.3)\n",
      "Requirement already satisfied: terminado>=0.8.3 in c:\\users\\c00553090\\appdata\\local\\miniconda3\\envs\\hypercoast\\lib\\site-packages (from jupyter-server>=1.24.0->jupyter-server-proxy->pyvista[jupyter]; extra == \"extra\"->hypercoast[extra]) (0.18.1)\n",
      "Requirement already satisfied: websocket-client>=1.7 in c:\\users\\c00553090\\appdata\\local\\miniconda3\\envs\\hypercoast\\lib\\site-packages (from jupyter-server>=1.24.0->jupyter-server-proxy->pyvista[jupyter]; extra == \"extra\"->hypercoast[extra]) (1.8.0)\n",
      "Requirement already satisfied: annotated-types>=0.6.0 in c:\\users\\c00553090\\appdata\\local\\miniconda3\\envs\\hypercoast\\lib\\site-packages (from pydantic~=2.0->rio-cogeo->localtileserver->hypercoast[extra]) (0.7.0)\n",
      "Requirement already satisfied: pydantic-core==2.23.3 in c:\\users\\c00553090\\appdata\\local\\miniconda3\\envs\\hypercoast\\lib\\site-packages (from pydantic~=2.0->rio-cogeo->localtileserver->hypercoast[extra]) (2.23.3)\n",
      "Requirement already satisfied: jsonschema-specifications>=2023.03.6 in c:\\users\\c00553090\\appdata\\local\\miniconda3\\envs\\hypercoast\\lib\\site-packages (from jsonschema->flask-restx>=0.5.0->localtileserver->hypercoast[extra]) (2023.12.1)\n",
      "Requirement already satisfied: referencing>=0.28.4 in c:\\users\\c00553090\\appdata\\local\\miniconda3\\envs\\hypercoast\\lib\\site-packages (from jsonschema->flask-restx>=0.5.0->localtileserver->hypercoast[extra]) (0.35.1)\n",
      "Requirement already satisfied: rpds-py>=0.7.1 in c:\\users\\c00553090\\appdata\\local\\miniconda3\\envs\\hypercoast\\lib\\site-packages (from jsonschema->flask-restx>=0.5.0->localtileserver->hypercoast[extra]) (0.20.0)\n",
      "Requirement already satisfied: msgpack<2,>=1 in c:\\users\\c00553090\\appdata\\local\\miniconda3\\envs\\hypercoast\\lib\\site-packages (from wslink>=2.1.3->trame>=2.5.2->pyvista[jupyter]; extra == \"extra\"->hypercoast[extra]) (1.1.0)\n",
      "Requirement already satisfied: soupsieve>1.2 in c:\\users\\c00553090\\appdata\\local\\miniconda3\\envs\\hypercoast\\lib\\site-packages (from beautifulsoup4->gdown>=5.1.0->leafmap>=0.37.1->hypercoast[extra]) (2.5)\n",
      "Requirement already satisfied: webencodings in c:\\users\\c00553090\\appdata\\local\\miniconda3\\envs\\hypercoast\\lib\\site-packages (from bleach->panel>=0.11.0->hvplot->hypercoast[extra]) (0.5.1)\n",
      "Requirement already satisfied: httpcore==1.* in c:\\users\\c00553090\\appdata\\local\\miniconda3\\envs\\hypercoast\\lib\\site-packages (from httpx->rio-tiler->localtileserver->hypercoast[extra]) (1.0.5)\n",
      "Requirement already satisfied: sniffio in c:\\users\\c00553090\\appdata\\local\\miniconda3\\envs\\hypercoast\\lib\\site-packages (from httpx->rio-tiler->localtileserver->hypercoast[extra]) (1.3.1)\n",
      "Requirement already satisfied: h11<0.15,>=0.13 in c:\\users\\c00553090\\appdata\\local\\miniconda3\\envs\\hypercoast\\lib\\site-packages (from httpcore==1.*->httpx->rio-tiler->localtileserver->hypercoast[extra]) (0.14.0)\n",
      "Requirement already satisfied: uc-micro-py in c:\\users\\c00553090\\appdata\\local\\miniconda3\\envs\\hypercoast\\lib\\site-packages (from linkify-it-py->panel>=0.11.0->hvplot->hypercoast[extra]) (1.0.3)\n",
      "Requirement already satisfied: mdurl~=0.1 in c:\\users\\c00553090\\appdata\\local\\miniconda3\\envs\\hypercoast\\lib\\site-packages (from markdown-it-py->panel>=0.11.0->hvplot->hypercoast[extra]) (0.1.2)\n",
      "Requirement already satisfied: PySocks!=1.5.7,>=1.5.6 in c:\\users\\c00553090\\appdata\\local\\miniconda3\\envs\\hypercoast\\lib\\site-packages (from requests[socks]->gdown>=5.1.0->leafmap>=0.37.1->hypercoast[extra]) (1.7.1)\n",
      "Requirement already satisfied: argon2-cffi-bindings in c:\\users\\c00553090\\appdata\\local\\miniconda3\\envs\\hypercoast\\lib\\site-packages (from argon2-cffi>=21.1->jupyter-server>=1.24.0->jupyter-server-proxy->pyvista[jupyter]; extra == \"extra\"->hypercoast[extra]) (21.2.0)\n",
      "Requirement already satisfied: parso<0.9.0,>=0.8.3 in c:\\users\\c00553090\\appdata\\local\\miniconda3\\envs\\hypercoast\\lib\\site-packages (from jedi>=0.16->ipython>=6.1.0->ipywidgets>=7.6.0->leafmap>=0.37.1->hypercoast[extra]) (0.8.4)\n",
      "Requirement already satisfied: pywin32>=300 in c:\\users\\c00553090\\appdata\\local\\miniconda3\\envs\\hypercoast\\lib\\site-packages (from jupyter-core!=5.0.*,>=4.12->jupyter-server>=1.24.0->jupyter-server-proxy->pyvista[jupyter]; extra == \"extra\"->hypercoast[extra]) (306)\n",
      "Requirement already satisfied: python-json-logger>=2.0.4 in c:\\users\\c00553090\\appdata\\local\\miniconda3\\envs\\hypercoast\\lib\\site-packages (from jupyter-events>=0.9.0->jupyter-server>=1.24.0->jupyter-server-proxy->pyvista[jupyter]; extra == \"extra\"->hypercoast[extra]) (2.0.7)\n",
      "Requirement already satisfied: rfc3339-validator in c:\\users\\c00553090\\appdata\\local\\miniconda3\\envs\\hypercoast\\lib\\site-packages (from jupyter-events>=0.9.0->jupyter-server>=1.24.0->jupyter-server-proxy->pyvista[jupyter]; extra == \"extra\"->hypercoast[extra]) (0.1.4)\n",
      "Requirement already satisfied: rfc3986-validator>=0.1.1 in c:\\users\\c00553090\\appdata\\local\\miniconda3\\envs\\hypercoast\\lib\\site-packages (from jupyter-events>=0.9.0->jupyter-server>=1.24.0->jupyter-server-proxy->pyvista[jupyter]; extra == \"extra\"->hypercoast[extra]) (0.1.1)\n",
      "Requirement already satisfied: defusedxml in c:\\users\\c00553090\\appdata\\local\\miniconda3\\envs\\hypercoast\\lib\\site-packages (from nbconvert>=6.4.4->jupyter-server>=1.24.0->jupyter-server-proxy->pyvista[jupyter]; extra == \"extra\"->hypercoast[extra]) (0.7.1)\n",
      "Requirement already satisfied: jupyterlab-pygments in c:\\users\\c00553090\\appdata\\local\\miniconda3\\envs\\hypercoast\\lib\\site-packages (from nbconvert>=6.4.4->jupyter-server>=1.24.0->jupyter-server-proxy->pyvista[jupyter]; extra == \"extra\"->hypercoast[extra]) (0.3.0)\n",
      "Requirement already satisfied: mistune<4,>=2.0.3 in c:\\users\\c00553090\\appdata\\local\\miniconda3\\envs\\hypercoast\\lib\\site-packages (from nbconvert>=6.4.4->jupyter-server>=1.24.0->jupyter-server-proxy->pyvista[jupyter]; extra == \"extra\"->hypercoast[extra]) (3.0.2)\n",
      "Requirement already satisfied: nbclient>=0.5.0 in c:\\users\\c00553090\\appdata\\local\\miniconda3\\envs\\hypercoast\\lib\\site-packages (from nbconvert>=6.4.4->jupyter-server>=1.24.0->jupyter-server-proxy->pyvista[jupyter]; extra == \"extra\"->hypercoast[extra]) (0.10.0)\n",
      "Requirement already satisfied: pandocfilters>=1.4.1 in c:\\users\\c00553090\\appdata\\local\\miniconda3\\envs\\hypercoast\\lib\\site-packages (from nbconvert>=6.4.4->jupyter-server>=1.24.0->jupyter-server-proxy->pyvista[jupyter]; extra == \"extra\"->hypercoast[extra]) (1.5.0)\n",
      "Requirement already satisfied: tinycss2 in c:\\users\\c00553090\\appdata\\local\\miniconda3\\envs\\hypercoast\\lib\\site-packages (from nbconvert>=6.4.4->jupyter-server>=1.24.0->jupyter-server-proxy->pyvista[jupyter]; extra == \"extra\"->hypercoast[extra]) (1.3.0)\n",
      "Requirement already satisfied: fastjsonschema>=2.15 in c:\\users\\c00553090\\appdata\\local\\miniconda3\\envs\\hypercoast\\lib\\site-packages (from nbformat>=5.3.0->jupyter-server>=1.24.0->jupyter-server-proxy->pyvista[jupyter]; extra == \"extra\"->hypercoast[extra]) (2.20.0)\n",
      "Requirement already satisfied: wcwidth in c:\\users\\c00553090\\appdata\\local\\miniconda3\\envs\\hypercoast\\lib\\site-packages (from prompt-toolkit<3.1.0,>=3.0.41->ipython>=6.1.0->ipywidgets>=7.6.0->leafmap>=0.37.1->hypercoast[extra]) (0.2.13)\n",
      "Requirement already satisfied: executing>=1.2.0 in c:\\users\\c00553090\\appdata\\local\\miniconda3\\envs\\hypercoast\\lib\\site-packages (from stack-data->ipython>=6.1.0->ipywidgets>=7.6.0->leafmap>=0.37.1->hypercoast[extra]) (2.1.0)\n",
      "Requirement already satisfied: asttokens>=2.1.0 in c:\\users\\c00553090\\appdata\\local\\miniconda3\\envs\\hypercoast\\lib\\site-packages (from stack-data->ipython>=6.1.0->ipywidgets>=7.6.0->leafmap>=0.37.1->hypercoast[extra]) (2.4.1)\n",
      "Requirement already satisfied: pure-eval in c:\\users\\c00553090\\appdata\\local\\miniconda3\\envs\\hypercoast\\lib\\site-packages (from stack-data->ipython>=6.1.0->ipywidgets>=7.6.0->leafmap>=0.37.1->hypercoast[extra]) (0.2.3)\n",
      "Requirement already satisfied: fqdn in c:\\users\\c00553090\\appdata\\local\\miniconda3\\envs\\hypercoast\\lib\\site-packages (from jsonschema[format-nongpl]>=4.18.0->jupyter-events>=0.9.0->jupyter-server>=1.24.0->jupyter-server-proxy->pyvista[jupyter]; extra == \"extra\"->hypercoast[extra]) (1.5.1)\n",
      "Requirement already satisfied: isoduration in c:\\users\\c00553090\\appdata\\local\\miniconda3\\envs\\hypercoast\\lib\\site-packages (from jsonschema[format-nongpl]>=4.18.0->jupyter-events>=0.9.0->jupyter-server>=1.24.0->jupyter-server-proxy->pyvista[jupyter]; extra == \"extra\"->hypercoast[extra]) (20.11.0)\n",
      "Requirement already satisfied: jsonpointer>1.13 in c:\\users\\c00553090\\appdata\\local\\miniconda3\\envs\\hypercoast\\lib\\site-packages (from jsonschema[format-nongpl]>=4.18.0->jupyter-events>=0.9.0->jupyter-server>=1.24.0->jupyter-server-proxy->pyvista[jupyter]; extra == \"extra\"->hypercoast[extra]) (3.0.0)\n",
      "Requirement already satisfied: uri-template in c:\\users\\c00553090\\appdata\\local\\miniconda3\\envs\\hypercoast\\lib\\site-packages (from jsonschema[format-nongpl]>=4.18.0->jupyter-events>=0.9.0->jupyter-server>=1.24.0->jupyter-server-proxy->pyvista[jupyter]; extra == \"extra\"->hypercoast[extra]) (1.3.0)\n",
      "Requirement already satisfied: webcolors>=24.6.0 in c:\\users\\c00553090\\appdata\\local\\miniconda3\\envs\\hypercoast\\lib\\site-packages (from jsonschema[format-nongpl]>=4.18.0->jupyter-events>=0.9.0->jupyter-server>=1.24.0->jupyter-server-proxy->pyvista[jupyter]; extra == \"extra\"->hypercoast[extra]) (24.8.0)\n",
      "Requirement already satisfied: cffi>=1.0.1 in c:\\users\\c00553090\\appdata\\local\\miniconda3\\envs\\hypercoast\\lib\\site-packages (from argon2-cffi-bindings->argon2-cffi>=21.1->jupyter-server>=1.24.0->jupyter-server-proxy->pyvista[jupyter]; extra == \"extra\"->hypercoast[extra]) (1.17.1)\n",
      "Requirement already satisfied: pycparser in c:\\users\\c00553090\\appdata\\local\\miniconda3\\envs\\hypercoast\\lib\\site-packages (from cffi>=1.0.1->argon2-cffi-bindings->argon2-cffi>=21.1->jupyter-server>=1.24.0->jupyter-server-proxy->pyvista[jupyter]; extra == \"extra\"->hypercoast[extra]) (2.22)\n",
      "Requirement already satisfied: arrow>=0.15.0 in c:\\users\\c00553090\\appdata\\local\\miniconda3\\envs\\hypercoast\\lib\\site-packages (from isoduration->jsonschema[format-nongpl]>=4.18.0->jupyter-events>=0.9.0->jupyter-server>=1.24.0->jupyter-server-proxy->pyvista[jupyter]; extra == \"extra\"->hypercoast[extra]) (1.3.0)\n",
      "Requirement already satisfied: types-python-dateutil>=2.8.10 in c:\\users\\c00553090\\appdata\\local\\miniconda3\\envs\\hypercoast\\lib\\site-packages (from arrow>=0.15.0->isoduration->jsonschema[format-nongpl]>=4.18.0->jupyter-events>=0.9.0->jupyter-server>=1.24.0->jupyter-server-proxy->pyvista[jupyter]; extra == \"extra\"->hypercoast[extra]) (2.9.0.20240906)\n",
      "Note: you may need to restart the kernel to use updated packages.\n"
     ]
    }
   ],
   "source": [
    "%pip install \"hypercoast[extra]\"\n",
    "# %pip install -U localtileserver"
   ]
  },
  {
   "cell_type": "markdown",
   "metadata": {},
   "source": [
    "Import libraries."
   ]
  },
  {
   "cell_type": "code",
   "execution_count": 2,
   "metadata": {},
   "outputs": [
    {
     "name": "stderr",
     "output_type": "stream",
     "text": [
      "c:\\Users\\C00553090\\AppData\\Local\\miniconda3\\envs\\hypercoast\\lib\\site-packages\\pandas\\core\\computation\\expressions.py:21: UserWarning: Pandas requires version '2.8.4' or newer of 'numexpr' (version '2.7.3' currently installed).\n",
      "  from pandas.core.computation.check import NUMEXPR_INSTALLED\n"
     ]
    }
   ],
   "source": [
    "import earthaccess\n",
    "import hypercoast\n",
    "import pandas as pd"
   ]
  },
  {
   "cell_type": "markdown",
   "metadata": {},
   "source": [
    "## Search for PACE data\n",
    "\n",
    "To download and access the data, you will need to create an Earthdata login. You can register for an account at [urs.earthdata.nasa.gov](https://urs.earthdata.nasa.gov). Once you have an account, run the following cell and enter your NASA Earthdata login credentials."
   ]
  },
  {
   "cell_type": "code",
   "execution_count": null,
   "metadata": {},
   "outputs": [],
   "source": [
    "earthaccess.login(persist=True)"
   ]
  },
  {
   "cell_type": "markdown",
   "metadata": {},
   "source": [
    "### Search data programmatically\n",
    "\n",
    "To search for PACE data programmatically, specify the bounding box and time range of interest. Set `count=-1` to return all results or set `count=10` to return the first 10 results."
   ]
  },
  {
   "cell_type": "code",
   "execution_count": 11,
   "metadata": {},
   "outputs": [],
   "source": [
    "results, gdf = hypercoast.search_pace(\n",
    "    bounding_box=(-90, 25, -88, 28),\n",
    "    temporal=(\"2024-10-10\", \"2024-10-10\"),\n",
    "    short_name=\"PACE_OCI_L2_AOP_NRT\",\n",
    "    count=10,\n",
    "    return_gdf=True,\n",
    ")"
   ]
  },
  {
   "cell_type": "markdown",
   "metadata": {},
   "source": [
    "Plot the footprints of the returned datasets on a map."
   ]
  },
  {
   "cell_type": "code",
   "execution_count": null,
   "metadata": {},
   "outputs": [],
   "source": [
    "gdf.explore()"
   ]
  },
  {
   "cell_type": "markdown",
   "metadata": {},
   "source": [
    "Download the first dataset from the search results. Note that the download may take some time."
   ]
  },
  {
   "cell_type": "code",
   "execution_count": null,
   "metadata": {},
   "outputs": [],
   "source": [
    "hypercoast.download_pace(results[:1], out_dir=\"data\")"
   ]
  },
  {
   "cell_type": "markdown",
   "metadata": {},
   "source": [
    "### Search data interactively\n",
    "\n",
    "To search for PACE data interactively, pan and zoom to the area of interest. Specify the time range of interest from the search dialog, then click on the Search button."
   ]
  },
  {
   "cell_type": "code",
   "execution_count": null,
   "metadata": {},
   "outputs": [],
   "source": [
    "m = hypercoast.Map(center=[30.0262, -90.1345], zoom=8)\n",
    "m.search_pace(default_dataset=\"PACE_OCI_L2_AOP_NRT\")\n",
    "m"
   ]
  },
  {
   "cell_type": "markdown",
   "metadata": {},
   "source": [
    "By default, the `search_pace` method searches for the `PACE_OCI_L2_AOP_NRT` dataset, but you can specify the dataset name by setting the `default_dataset` parameter, such as `PACE_OCI_L2_BGC_NRT`. For more information about the available datasets, see the [PACE Data Products](https://pace.oceansciences.org/data_table.htm) page."
   ]
  },
  {
   "cell_type": "markdown",
   "metadata": {},
   "source": [
    "![image](https://github.com/user-attachments/assets/2c45ad43-c405-402a-92e8-42f497730fbb)"
   ]
  },
  {
   "cell_type": "markdown",
   "metadata": {},
   "source": [
    "Uncomment the following cell to display the GeoDataFrame of the search results."
   ]
  },
  {
   "cell_type": "code",
   "execution_count": null,
   "metadata": {},
   "outputs": [],
   "source": [
    "# m._NASA_DATA_GDF.head()"
   ]
  },
  {
   "cell_type": "markdown",
   "metadata": {},
   "source": [
    "Similarly, you can download the first dataset from the search results by uncommenting the following cell."
   ]
  },
  {
   "cell_type": "code",
   "execution_count": null,
   "metadata": {},
   "outputs": [],
   "source": [
    "# hypercoast.download_pace(results[:1], out_dir=\"data\")"
   ]
  },
  {
   "cell_type": "markdown",
   "metadata": {},
   "source": [
    "## Read PACE data\n"
   ]
  },
  {
   "cell_type": "code",
   "execution_count": 5,
   "metadata": {},
   "outputs": [
    {
     "data": {
      "image/png": "[encoded data removed]",
      "text/plain": [
       "<Figure size 800x600 with 1 Axes>"
      ]
     },
     "metadata": {},
     "output_type": "display_data"
    }
   ],
   "source": [
    "filepath = \"PACE_OCI.20240730T181157.L2.OC_AOP.V2_0.NRT.nc\"\n",
    "plot = hypercoast.view_pace_pixel_locations(filepath, step=20)"
   ]
  },
  {
   "cell_type": "markdown",
   "metadata": {},
   "source": [
    "Load the dataset as a `xarray.Dataset` object."
   ]
  },
  {
   "cell_type": "code",
   "execution_count": 6,
   "metadata": {},
   "outputs": [],
   "source": [
    "dataset = hypercoast.read_pace(filepath)\n",
    "# dataset"
   ]
  },
  {
   "cell_type": "markdown",
   "metadata": {},
   "source": [
    "## Visualize PACE AOP data\n",
    "\n",
    "Visualize selected bands of the dataset."
   ]
  },
  {
   "cell_type": "code",
   "execution_count": null,
   "metadata": {},
   "outputs": [],
   "source": [
    "hypercoast.viz_pace(dataset, wavelengths=[500, 510, 520, 530], ncols=2)"
   ]
  },
  {
   "cell_type": "markdown",
   "metadata": {},
   "source": [
    "Add custom projection and administrative boundaries to the map. The default projection is `PlateCarree`. You can specify a custom projection by setting the `crs` parameter. For more information about the available projections, see the [cartopy projection](https://scitools.org.uk/cartopy/docs/latest/reference/projections.html) page."
   ]
  },
  {
   "cell_type": "code",
   "execution_count": null,
   "metadata": {},
   "outputs": [],
   "source": [
    "hypercoast.viz_pace(dataset, wavelengths=[500, 510, 520, 530], ncols=2, crs=\"default\")"
   ]
  },
  {
   "cell_type": "markdown",
   "metadata": {},
   "source": [
    "## Plot spectral signatures\n",
    "\n",
    "Plot the spectral signature of a pixel using the `extract_pace` function. Set `return_plot=True` to return the plot object. "
   ]
  },
  {
   "cell_type": "code",
   "execution_count": null,
   "metadata": {},
   "outputs": [],
   "source": [
    "latitude = 29.9307\n",
    "longitude = -87.9106\n",
    "hypercoast.extract_pace(dataset, latitude, longitude, return_plot=True)"
   ]
  },
  {
   "cell_type": "markdown",
   "metadata": {},
   "source": [
    "## Interactive visualization\n",
    "\n",
    "### Single-band visualization"
   ]
  },
  {
   "cell_type": "markdown",
   "metadata": {},
   "source": [
    "Visualize a selected band of the dataset interactively use the `add_pace` method and speccify the `wavelengths` parameter."
   ]
  },
  {
   "cell_type": "code",
   "execution_count": null,
   "metadata": {},
   "outputs": [],
   "source": [
    "m = hypercoast.Map()\n",
    "m.add_basemap(\"Hybrid\")\n",
    "wavelengths = [450]\n",
    "m.add_pace(dataset, wavelengths, colormap=\"jet\", vmin=0, vmax=0.02, layer_name=\"PACE\")\n",
    "m.add_colormap(cmap=\"jet\", vmin=0, vmax=0.02, label=\"Reflectance\")\n",
    "m.add(\"spectral\")\n",
    "m.set_center(-80.7382, 26.5295, zoom=6)\n",
    "m"
   ]
  },
  {
   "cell_type": "markdown",
   "metadata": {},
   "source": [
    "### Multi-band visualization\n",
    "\n",
    "Select three spectral bands to visualize as an RGB image."
   ]
  },
  {
   "cell_type": "code",
   "execution_count": null,
   "metadata": {},
   "outputs": [],
   "source": [
    "m = hypercoast.Map()\n",
    "m.add_basemap(\"Hybrid\")\n",
    "wavelengths = [450, 550, 650]\n",
    "m.add_pace(\n",
    "    dataset, wavelengths, indexes=[3, 2, 1], vmin=0, vmax=0.02, layer_name=\"PACE\"\n",
    ")\n",
    "m.add(\"spectral\")\n",
    "m.set_center(-80.7382, 26.5295, zoom=6)\n",
    "m"
   ]
  },
  {
   "cell_type": "markdown",
   "metadata": {},
   "source": [
    "## PACE BGC data\n",
    "\n",
    "PACE has a variety of data products, including biogeochemical properties. For more information about the available datasets, see the [PACE Data Products](https://pace.oceansciences.org/data_table.htm) page.\n",
    "\n",
    "The PACE Biogeochemical (BGC) data products include chlorophyll-a concentration, particulate organic carbon, and particulate inorganic carbon.\n",
    "\n",
    "### Download PACE BGC data\n",
    "\n",
    "Let's download a sample PACE BGC dataset for the demonstration."
   ]
  },
  {
   "cell_type": "code",
   "execution_count": null,
   "metadata": {},
   "outputs": [],
   "source": [
    "results, gdf = hypercoast.search_nasa_data(\n",
    "    short_name=\"PACE_OCI_L2_BGC_NRT\",\n",
    "    bbox=(-90.5642, 29.9749, -89.7143, 30.42),\n",
    "    temporal=(\"2024-10-10\", \"2024-10-10\"),\n",
    "    count=1,\n",
    "    return_gdf=True,\n",
    ")\n",
    "hypercoast.download_nasa_data(results, out_dir=\"data\")"
   ]
  },
  {
   "cell_type": "markdown",
   "metadata": {},
   "source": [
    "Load the downloaded dataset as an `xarray.Dataset`:"
   ]
  },
  {
   "cell_type": "code",
   "execution_count": 23,
   "metadata": {},
   "outputs": [],
   "source": [
    "filepath = \"data/PACE_OCI.20241010T183444.L2.OC_BGC.V2_0.NRT.nc\"\n",
    "dataset = hypercoast.read_pace_bgc(filepath)"
   ]
  },
  {
   "cell_type": "markdown",
   "metadata": {},
   "source": [
    "Let's inspect the data variables contained in the dataset:"
   ]
  },
  {
   "cell_type": "code",
   "execution_count": null,
   "metadata": {},
   "outputs": [],
   "source": [
    "dataset.variables"
   ]
  },
  {
   "cell_type": "markdown",
   "metadata": {},
   "source": [
    "We can see that the dataset contains the following variables:\n",
    "- [Chlorophyll Concentration](https://www.earthdata.nasa.gov/apt/documents/chlor-a/v1.0)\n",
    "- [Phytoplankton Carbon](https://oceancolor.gsfc.nasa.gov/resources/atbd/cphyt/)\n",
    "- [Particulate Organic Carbon](https://oceancolor.gsfc.nasa.gov/resources/atbd/poc/)"
   ]
  },
  {
   "cell_type": "markdown",
   "metadata": {},
   "source": [
    "### Visualize PACE BGC data\n",
    "\n",
    "Since the datasets are not gridded, we need to transform them into gridded data to visualize them. We can use the `grid_pace_bgc` function to transform the dataset into a gridded format.\n",
    "\n",
    "First, transform the `chlor_a` variable into a gridded format:"
   ]
  },
  {
   "cell_type": "code",
   "execution_count": 25,
   "metadata": {},
   "outputs": [],
   "source": [
    "chlor_a = hypercoast.grid_pace_bgc(dataset, variable=\"chlor_a\", method=\"linear\")"
   ]
  },
  {
   "cell_type": "markdown",
   "metadata": {},
   "source": [
    "Plot the gridded Chlorophyll Concentration data:"
   ]
  },
  {
   "cell_type": "code",
   "execution_count": null,
   "metadata": {},
   "outputs": [],
   "source": [
    "chlor_a.plot(vmin=0, vmax=20, cmap=\"jet\", size=6)"
   ]
  },
  {
   "cell_type": "markdown",
   "metadata": {},
   "source": [
    "Plot the gridded Phytoplankton Carbon data:"
   ]
  },
  {
   "cell_type": "code",
   "execution_count": null,
   "metadata": {},
   "outputs": [],
   "source": [
    "carbon_phyto = hypercoast.grid_pace_bgc(\n",
    "    dataset, variable=\"carbon_phyto\", method=\"linear\"\n",
    ")\n",
    "carbon_phyto.plot(vmin=0, vmax=120, cmap=\"jet\", size=6)"
   ]
  },
  {
   "cell_type": "markdown",
   "metadata": {},
   "source": [
    "Plot the gridded Particulate Organic Carbon data:"
   ]
  },
  {
   "cell_type": "code",
   "execution_count": null,
   "metadata": {},
   "outputs": [],
   "source": [
    "poc = hypercoast.grid_pace_bgc(dataset, variable=\"poc\", method=\"linear\")\n",
    "poc.plot(vmin=0, vmax=1000, cmap=\"jet\")"
   ]
  },
  {
   "cell_type": "markdown",
   "metadata": {},
   "source": [
    "Plot the gridded BGC data on an interactive map."
   ]
  },
  {
   "cell_type": "code",
   "execution_count": null,
   "metadata": {},
   "outputs": [],
   "source": [
    "m = hypercoast.Map()\n",
    "m.add_basemap(\"Hybrid\")\n",
    "m.add_raster(chlor_a, layer_name=\"Chlorophyll-a\", colormap=\"jet\", vmin=0, vmax=20)\n",
    "m.add_raster(\n",
    "    carbon_phyto, layer_name=\"Phytoplankton Carbon\", colormap=\"plasma\", vmin=0, vmax=120\n",
    ")\n",
    "m.add_raster(\n",
    "    poc, layer_name=\"Particulate Organic Carbon\", colormap=\"coolwarm\", vmin=0, vmax=1000\n",
    ")\n",
    "m.add_layer_manager()\n",
    "\n",
    "m.add_colormap(cmap=\"jet\", vmin=0, vmax=20, label=\"Chlorophyll-a (mg/m3)\")\n",
    "m.add_colormap(cmap=\"plasma\", vmin=0, vmax=120, label=\"Phytoplankton Carbon (mg/m3)\")\n",
    "m.add_colormap(\n",
    "    cmap=\"coolwarm\", vmin=0, vmax=1000, label=\"Particulate Organic Carbon (mg/m3)\"\n",
    ")\n",
    "m.set_center(-80.7382, 26.5295, zoom=6)\n",
    "m"
   ]
  },
  {
   "cell_type": "markdown",
   "metadata": {},
   "source": [
    "![](https://i.imgur.com/AEccc5k.gif)"
   ]
  }
 ],
 "metadata": {
  "kernelspec": {
   "display_name": "hypercoast",
   "language": "python",
   "name": "python3"
  },
  "language_info": {
   "codemirror_mode": {
    "name": "ipython",
    "version": 3
   },
   "file_extension": ".py",
   "mimetype": "text/x-python",
   "name": "python",
   "nbconvert_exporter": "python",
   "pygments_lexer": "ipython3",
   "version": "3.10.14"
  }
 },
 "nbformat": 4,
 "nbformat_minor": 4
}
