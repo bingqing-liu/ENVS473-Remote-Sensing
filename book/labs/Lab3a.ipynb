{
 "cells": [
  {
   "cell_type": "markdown",
   "metadata": {},
   "source": [
    "## What is Xarray?\n",
    "\n",
    "Xarray extends the capabilities of NumPy by providing a data structure for labeled, multi-dimensional arrays. The two main data structures in Xarray are:\n",
    "\n",
    "- **DataArray**: A labeled, multi-dimensional array, which includes dimensions, coordinates, and attributes.\n",
    "- **Dataset**: A collection of `DataArray` objects that share the same dimensions.\n",
    "\n",
    "![](https://docs.xarray.dev/en/stable/_images/dataset-diagram.png)\n",
    "\n",
    "Xarray is particularly useful for working with datasets where dimensions have meaningful labels (e.g., time, latitude, longitude) and where metadata is important."
   ]
  },
  {
   "cell_type": "markdown",
   "metadata": {},
   "source": [
    "* `rasterio`: The main library for reading and writing raster data.\n",
    "* `rasterio.plot`: A submodule of Rasterio for plotting raster data.\n",
    "* `numpy`: A powerful library for array manipulations, which is very useful for raster data.\n",
    "* `matplotlib`: A standard plotting library in Python for creating visualizations."
   ]
  },
  {
   "cell_type": "code",
   "execution_count": null,
   "metadata": {},
   "outputs": [],
   "source": [
    "# %pip install xarray "
   ]
  },
  {
   "cell_type": "code",
   "execution_count": null,
   "metadata": {},
   "outputs": [],
   "source": [
    "import xarray as xr\n",
    "\n",
    "# This imports the pyplot module from matplotlib, a plotting library that provides functions for making a variety visualizations in Python.\n",
    "import matplotlib.pyplot as plt\n"
   ]
  },
  {
   "cell_type": "code",
   "execution_count": null,
   "metadata": {},
   "outputs": [],
   "source": [
    "# Path to your Sentinel-2 NetCDF image\n",
    "nc_file_path = './S2A_MSI_2016_09_20_16_44_50_T15RYN_L2W_subset.nc'\n",
    "\n",
    "# Open the NetCDF file，this line uses xarray's open_dataset function to load the NetCDF file specified by nc_file_path into the variable ds. \n",
    "# The ds variable now contains an xarray.Dataset object, which is a multi-dimensional, in-memory array database. \n",
    "# Rhis dataset likely contains various data variables such as spectral bands and other metadata.\n",
    "\n",
    "ds = xr.open_dataset(nc_file_path)\n",
    "\n",
    "# Check available variables (bands) in the dataset\n",
    "print(\"Variables in the dataset:\", ds.data_vars)"
   ]
  },
  {
   "cell_type": "code",
   "execution_count": 5,
   "metadata": {},
   "outputs": [],
   "source": [
    "# Extract the necessary variables (TSS and Rrs_665)\n",
    "\n",
    "red = ds['Rrs_665'].values\n",
    "green = ds['Rrs_560'].values\n",
    "NIR1 = ds['Rrs_704'].values\n",
    "NIR2 = ds['Rrs_740'].values\n",
    "NIR3 = ds['Rrs_833'].values\n",
    "# Make sure lon and lat are 1D arrays\n",
    "lon = ds['lon'].values\n",
    "lat = ds['lat'].values\n",
    "\n",
    "# Calculate TSS using the formula (Miller & McKee, 2004)\n",
    "TSS_Miller = 1140.25 * red - 1.91"
   ]
  },
  {
   "cell_type": "code",
   "execution_count": null,
   "metadata": {},
   "outputs": [],
   "source": [
    "# Optional: Display the TSS map\n",
    "plt.figure(figsize=(10, 10))\n",
    "plt.imshow(TSS_Miller, cmap='jet', vmin=0, vmax=20)\n",
    "plt.colorbar(label='TSS Concentration')\n",
    "plt.title('TSS Map')\n",
    "plt.axis('off')\n",
    "plt.show()\n",
    "\n",
    "# Optional: Display the Rrs_665 map\n",
    "plt.figure(figsize=(10, 10))\n",
    "plt.imshow(NIR3, cmap='jet', vmin=0, vmax=0.005)  # You can choose a different colormap\n",
    "plt.colorbar(label='Rrs_833')\n",
    "plt.title('Rrs_833 Map')\n",
    "plt.axis('off')\n",
    "plt.show()"
   ]
  },
  {
   "cell_type": "markdown",
   "metadata": {},
   "source": [
    "## Reading Raster Data\n",
    "\n",
    "To read raster data, you can use the `rasterio.open()` function. This function creates a connection to the file without loading the entire dataset into memory. This is particularly useful for large datasets like satellite imagery or high-resolution DEMs, as they might be too big to fit into memory at once."
   ]
  },
  {
   "cell_type": "code",
   "execution_count": null,
   "metadata": {},
   "outputs": [],
   "source": [
    "import rasterio\n",
    "from rasterio.transform import from_origin\n",
    "\n",
    "# Create transform using top-left corner (lon.min(), lat.max()) and pixel size\n",
    "\n",
    "# The from_origin(lon.min(), lat.max(), pixel_size_x, pixel_size_y) function creates a transformation matrix that starts at the top-left corner \n",
    "# of the image (where lon.min() and lat.max() are) and applies the pixel sizes to convert the image into a geospatial format that software \n",
    "# like QGIS, ArcGIS, or any other GIS tool can interpret.\n",
    "# The transform provides a way to map between pixel coordinates (like row/column in an array) and real-world coordinates (latitude/longitude). \n",
    "# Without this, the image would not be tied to any specific place on Earth.\n",
    "\n",
    "pixel_size_x = (lon.max() - lon.min()) / red.shape[1]\n",
    "pixel_size_y = (lat.max() - lat.min()) / red.shape[0]\n",
    "transform = from_origin(lon.min(), lat.max(), pixel_size_x, pixel_size_y)\n",
    "\n",
    "# Define the output GeoTIFF filename\n",
    "output_tif = 'TSS_and_Rrs_12082015_lab.tif'\n",
    "\n",
    "\n",
    "# Save both the TSS concentration and Rrs as bands in the GeoTIFF\n",
    "# The rasterio.open function is used here with the 'w' option to open a file for writing:\n",
    "with rasterio.open(\n",
    "    output_tif,\n",
    "    'w',\n",
    "    driver='GTiff',\n",
    "    height=TSS_Miller.shape[0],\n",
    "    width=TSS_Miller.shape[1],\n",
    "    count=6,  # Two bands: one for TSS and one for Rrs_665\n",
    "    dtype=TSS_Miller.dtype,  # Assuming both have the same data type\n",
    "    crs='EPSG:4326',\n",
    "    transform=transform,\n",
    ") as dst:\n",
    "    # Writing Data to the GeoTIFF Within the opened file context (dst), multiple data arrays are written to different bands of the GeoTIFF:\n",
    "    dst.write(TSS_Miller, 1)  # Write TSS concentration to the first band\n",
    "    dst.write(red, 2)  # Write Rrs_665 to the second band\n",
    "    dst.write(green, 3) # \n",
    "    dst.write(NIR1, 4)  # \n",
    "    dst.write(NIR2, 5)  # \n",
    "    dst.write(NIR3, 6)  #\n",
    "\n",
    "print(f'Saved {output_tif}')"
   ]
  },
  {
   "cell_type": "code",
   "execution_count": null,
   "metadata": {},
   "outputs": [],
   "source": [
    "raster_path = './TSS_and_Rrs_12082015_lab.tif'\n",
    "src = rasterio.open(raster_path)\n",
    "print(src)"
   ]
  },
  {
   "cell_type": "markdown",
   "metadata": {},
   "source": [
    "File Name: The name attribute gives you the file path or URL of the opened raster."
   ]
  },
  {
   "cell_type": "code",
   "execution_count": null,
   "metadata": {},
   "outputs": [],
   "source": [
    "src.name"
   ]
  },
  {
   "cell_type": "markdown",
   "metadata": {},
   "source": [
    "File Mode: The mode attribute shows how the file was opened. For example, a raster can be opened in read-only ('r') or write ('w') mode."
   ]
  },
  {
   "cell_type": "code",
   "execution_count": null,
   "metadata": {},
   "outputs": [],
   "source": [
    "src.mode"
   ]
  },
  {
   "cell_type": "markdown",
   "metadata": {},
   "source": [
    "Raster Metadata: The meta attribute provides key information about the raster, such as its width, height, CRS, number of bands, and data type."
   ]
  },
  {
   "cell_type": "code",
   "execution_count": null,
   "metadata": {},
   "outputs": [],
   "source": [
    "src.meta"
   ]
  },
  {
   "cell_type": "markdown",
   "metadata": {},
   "source": [
    "The CRS describes how the 2D pixel values relate to real-world geographic coordinates (latitude and longitude or projected coordinates). Knowing the CRS is essential for interpreting the data in a meaningful way. To retrieve the CRS:"
   ]
  },
  {
   "cell_type": "code",
   "execution_count": null,
   "metadata": {},
   "outputs": [],
   "source": [
    "src.crs"
   ]
  }
 ],
 "metadata": {
  "kernelspec": {
   "display_name": "hyper",
   "language": "python",
   "name": "python3"
  },
  "language_info": {
   "codemirror_mode": {
    "name": "ipython",
    "version": 3
   },
   "file_extension": ".py",
   "mimetype": "text/x-python",
   "name": "python",
   "nbconvert_exporter": "python",
   "pygments_lexer": "ipython3",
   "version": "3.10.14"
  }
 },
 "nbformat": 4,
 "nbformat_minor": 2
}
