{
 "cells": [
  {
   "cell_type": "markdown",
   "id": "0",
   "metadata": {},
   "source": [
    "# Lab1c\n",
    "# Looping and Control Statements\n",
    "\n",
    "[![Open In Colab](https://colab.research.google.com/assets/colab-badge.svg)](https://colab.research.google.com/github/giswqs/geog-312/blob/main/book/python/05_looping.ipynb)\n",
    "\n",
    "## Overview\n",
    "\n",
    "This lecture introduces looping and control statements in Python, focusing on their applications in geospatial programming. Loops and control statements are essential tools for automating repetitive tasks, making decisions based on data conditions, and efficiently processing large geospatial datasets. By mastering these concepts, you will be able to handle complex geospatial analysis tasks with greater efficiency and precision.\n",
    "\n",
    "## Learning Objectives\n",
    "\n",
    "By the end of this lecture, you should be able to:\n",
    "\n",
    "- Understand and implement `for` loops to iterate over sequences such as lists and tuples.\n",
    "- Use `while` loops to perform tasks until a specific condition is met.\n",
    "- Apply control statements (`if`, `elif`, `else`) to execute different blocks of code based on data conditions.\n",
    "- Combine loops and control statements to filter, process, and analyze geospatial data.\n",
    "- Develop the ability to automate repetitive geospatial tasks, making your data processing workflows more efficient.\n",
    "\n",
    "## For Loops\n",
    "\n",
    "For loops allow you to iterate over a sequence (such as a list, tuple, or string) and execute a block of code for each item in the sequence. This is particularly useful in geospatial programming when you need to process multiple features or coordinates."
   ]
  },
  {
   "cell_type": "code",
   "execution_count": 1,
   "id": "1",
   "metadata": {},
   "outputs": [
    {
     "name": "stdout",
     "output_type": "stream",
     "text": [
      "Latitude: 35.6895, Longitude: 139.6917\n",
      "Latitude: 34.0522, Longitude: -118.2437\n",
      "Latitude: 51.5074, Longitude: -0.1278\n"
     ]
    }
   ],
   "source": [
    "coordinates = [\n",
    "    (35.6895, 139.6917),\n",
    "    (34.0522, -118.2437),\n",
    "    (51.5074, -0.1278),\n",
    "]  # List of tuples representing coordinates\n",
    "\n",
    "for lat, lon in coordinates:\n",
    "    print(f\"Latitude: {lat}, Longitude: {lon}\") \n",
    "    \n",
    "# It loops through the list of coordinates.\n",
    "# For each coordinate (latitude, longitude), it prints the values in the format:\n",
    "# Latitude: [value], Longitude: [value]."
   ]
  },
  {
   "attachments": {
    "image.png": {
     "image/png": "[encoded data removed]"
    }
   },
   "cell_type": "markdown",
   "id": "2",
   "metadata": {},
   "source": [
    "Assuming you have a function to calculate distances, you can use a loop to compute distances from a reference point.\n",
    "\n",
    "Distance Calculation (Euclidean Distance in 2D Space):\n",
    "\n",
    "![image.png](attachment:image.png)"
   ]
  },
  {
   "cell_type": "code",
   "execution_count": 2,
   "id": "3",
   "metadata": {},
   "outputs": [
    {
     "name": "stdout",
     "output_type": "stream",
     "text": [
      "Distance from (0, 0) to (35.6895, 139.6917): 144.18\n",
      "Distance from (0, 0) to (34.0522, -118.2437): 123.05\n",
      "Distance from (0, 0) to (51.5074, -0.1278): 51.51\n"
     ]
    }
   ],
   "source": [
    "# Function Definition: this defines a Python function named calculate_distance that takes four arguments: lat1, lon1, lat2, and lon2.\n",
    "def calculate_distance(lat1, lon1, lat2, lon2):\n",
    "    # Placeholder for distance calculation logic\n",
    "    # lat1 and lon1: Latitude and longitude of the first point.\n",
    "    # lat2 and lon2: Latitude and longitude of the second point.\n",
    "    return ((lat2 - lat1) ** 2 + (lon2 - lon1) ** 2) ** 0.5\n",
    "\n",
    "\n",
    "\n",
    "reference_point = (0, 0)  # Reference point (latitude, longitude)\n",
    "\n",
    "for lat, lon in coordinates:\n",
    "    distance = calculate_distance(reference_point[0], reference_point[1], lat, lon)\n",
    "    print(f\"Distance from {reference_point} to ({lat}, {lon}): {distance:.2f}\")"
   ]
  },
  {
   "cell_type": "markdown",
   "id": "4",
   "metadata": {},
   "source": [
    "## While Loops\n",
    "\n",
    "While loops continue to execute a block of code as long as a specified condition is true. They are useful when the number of iterations is not known beforehand, such as when processing data until a certain condition is met."
   ]
  },
  {
   "cell_type": "code",
   "execution_count": 4,
   "id": "5",
   "metadata": {},
   "outputs": [
    {
     "name": "stdout",
     "output_type": "stream",
     "text": [
      "Processing coordinate: (35.6895, 139.6917)\n",
      "Processing coordinate: (34.0522, -118.2437)\n",
      "Processing coordinate: (51.5074, -0.1278)\n"
     ]
    }
   ],
   "source": [
    "# The variable counter is initialized to 0. This will serve as a loop counter, which tracks the current position in the list of coordinates.\n",
    "# The counter starts at 0 because lists in Python are zero-indexed, meaning the first element is accessed using index 0.\n",
    "\n",
    "counter = 0\n",
    "# Below is a while loop, which will continue to execute as long as the condition counter < len(coordinates) is True.\n",
    "\n",
    "# len(coordinates) gives the total number of items (coordinates) in the list coordinates. The loop will run until counter reaches the length of the list.\n",
    "while counter < len(coordinates):\n",
    "    lat, lon = coordinates[counter]\n",
    "    print(f\"Processing coordinate: ({lat}, {lon})\")\n",
    "    # After processing each coordinate, the counter is increased by 1 using the counter = counter + 1 statement.\n",
    "    counter = counter + 1\n",
    "    \n",
    "# In essence, the loop will iterate through all the items in the coordinates list."
   ]
  },
  {
   "cell_type": "markdown",
   "id": "6",
   "metadata": {},
   "source": [
    "## Control Statements: if, elif, else\n",
    "\n",
    "Control statements allow you to execute different blocks of code based on certain conditions. In geospatial programming, this is useful for handling different types of data or conditions.\n",
    "\n",
    "elif in Python stands for \"else if.\" It is used in conditional statements when you want to check multiple conditions, one after another. It allows you to specify a new condition to test if the previous condition (if) was false.\n",
    "\n",
    "if statement: The first condition is checked.\n",
    "\n",
    "elif statement(s): If the if condition is false, Python checks the elif condition.\n",
    "\n",
    "else statement: If none of the if or elif conditions are true, the else block is executed."
   ]
  },
  {
   "cell_type": "code",
   "execution_count": 6,
   "id": "7",
   "metadata": {},
   "outputs": [
    {
     "name": "stdout",
     "output_type": "stream",
     "text": [
      "35.6895 is in the Northern Hemisphere\n",
      "-34.6037 is in the Southern Hemisphere\n",
      "0.0 is near the equator\n"
     ]
    }
   ],
   "source": [
    "coordinates = [\n",
    "    (35.6895, 139.6917),  # Tokyo\n",
    "    (-34.6037, -58.3816),  # Buenos Aires\n",
    "    (0.0, -77.0369)  # Equator (somewhere near)\n",
    "]\n",
    "\n",
    "for lat, lon in coordinates:\n",
    "    if lat > 0:\n",
    "        print(f\"{lat} is in the Northern Hemisphere\")\n",
    "    elif lat < 0:\n",
    "        print(f\"{lat} is in the Southern Hemisphere\")\n",
    "    else:\n",
    "        print(f\"{lat} is near the equator\")"
   ]
  },
  {
   "cell_type": "markdown",
   "id": "8",
   "metadata": {},
   "source": [
    "You can further categorize based on longitude:"
   ]
  },
  {
   "cell_type": "code",
   "execution_count": 7,
   "id": "9",
   "metadata": {},
   "outputs": [
    {
     "name": "stdout",
     "output_type": "stream",
     "text": [
      "The coordinate (35.6895, 139.6917) is in the Northern Hemisphere and Eastern Hemisphere.\n",
      "The coordinate (-34.6037, -58.3816) is in the Southern Hemisphere and Western Hemisphere.\n",
      "The coordinate (0.0, -77.0369) is in the Southern Hemisphere and Western Hemisphere.\n"
     ]
    }
   ],
   "source": [
    "for lat, lon in coordinates:\n",
    "    if lat > 0:\n",
    "        hemisphere = \"Northern\"\n",
    "    else:\n",
    "        hemisphere = \"Southern\"\n",
    "\n",
    "    if lon > 0:\n",
    "        direction = \"Eastern\"\n",
    "    else:\n",
    "        direction = \"Western\"\n",
    "\n",
    "    print(\n",
    "        f\"The coordinate ({lat}, {lon}) is in the {hemisphere} Hemisphere and {direction} Hemisphere.\"\n",
    "    )"
   ]
  },
  {
   "cell_type": "markdown",
   "id": "10",
   "metadata": {},
   "source": [
    "## Combining Loops and Control Statements\n",
    "\n",
    "You can combine loops and control statements to perform more complex operations, such as filtering data or applying conditions during iteration."
   ]
  },
  {
   "cell_type": "code",
   "execution_count": 8,
   "id": "11",
   "metadata": {},
   "outputs": [
    {
     "name": "stdout",
     "output_type": "stream",
     "text": [
      "Filtered coordinates (only with positive longitude): [(35.6895, 139.6917)]\n"
     ]
    }
   ],
   "source": [
    "# Creating an Empty List (filtered_coordinates):\n",
    "# The purpose of this list is to store only the coordinates that meet a certain condition (in this case, coordinates with positive longitudes).\n",
    "filtered_coordinates = []\n",
    "\n",
    "# During each iteration, the loop assigns the latitude (lat) and longitude (lon) from each tuple to the respective variables.\n",
    "for lat, lon in coordinates:\n",
    "    if lon > 0:\n",
    "        # If the condition is true, meaning the longitude is positive, the code inside the if block is executed.\n",
    "        filtered_coordinates.append((lat, lon))\n",
    "print(f\"Filtered coordinates (only with positive longitude): {filtered_coordinates}\")"
   ]
  },
  {
   "cell_type": "code",
   "execution_count": 10,
   "id": "12",
   "metadata": {},
   "outputs": [
    {
     "name": "stdout",
     "output_type": "stream",
     "text": [
      "Number of coordinates in the Southern Hemisphere: 2\n"
     ]
    }
   ],
   "source": [
    "coordinates = [\n",
    "    (35.6895, 139.6917),  # Tokyo (Northern Hemisphere)\n",
    "    (-34.6037, -58.3816),  # Buenos Aires (Southern Hemisphere)\n",
    "    (51.5074, -0.1278),    # London (Northern Hemisphere)\n",
    "    (-33.9249, 18.4241)    # Cape Town (Southern Hemisphere)\n",
    "]\n",
    "\n",
    "# This line initializes a variable called southern_count and sets its value to 0. \n",
    "# This variable will be used to keep track of how many coordinates are located in the Southern Hemisphere.\n",
    "southern_count = 0\n",
    "for lat, lon in coordinates:\n",
    "    if lat < 0:\n",
    "        southern_count = southern_count + 1\n",
    "print(f\"Number of coordinates in the Southern Hemisphere: {southern_count}\")"
   ]
  },
  {
   "cell_type": "markdown",
   "id": "13",
   "metadata": {},
   "source": [
    "## Exercises\n",
    "\n",
    "1. Create a list of cities with their coordinates. Write a for loop to print out only the cities that are in the Northern Hemisphere.\n",
    "2. Write a while loop that continues to print the coordinates in a list until a coordinate with a latitude less than 0 is found.\n",
    "3. Combine a for loop and if statements to count how many coordinates in a list are located in the Southern Hemisphere."
   ]
  },
  {
   "cell_type": "markdown",
   "id": "15",
   "metadata": {},
   "source": [
    "## Summary\n",
    "\n",
    "Loops and control statements are fundamental tools in geospatial programming. They allow you to process and analyze geographic data efficiently by automating repetitive tasks and applying logic based on data conditions. Practice these concepts by applying them to your geospatial datasets and analyses."
   ]
  }
 ],
 "metadata": {
  "kernelspec": {
   "display_name": "Python 3",
   "language": "python",
   "name": "python3"
  },
  "language_info": {
   "codemirror_mode": {
    "name": "ipython",
    "version": 3
   },
   "file_extension": ".py",
   "mimetype": "text/x-python",
   "name": "python",
   "nbconvert_exporter": "python",
   "pygments_lexer": "ipython3",
   "version": "3.11.9"
  }
 },
 "nbformat": 4,
 "nbformat_minor": 5
}
