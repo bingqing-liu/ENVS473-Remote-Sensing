{
 "cells": [
  {
   "cell_type": "markdown",
   "id": "0",
   "metadata": {},
   "source": [
    "## Lab1b_2\n",
    "\n",
    "## Variables and Data Types\n",
    "\n",
    "## Overview\n",
    "\n",
    "This lecture introduces the fundamental concepts of variables, and data types in Python, focusing on their applications within geospatial programming. Understanding these basics is essential for working with geospatial data, as variables allow you to store and manipulate information, while data types define the kind of operations you can perform on this information. This lecture will guide you through variable assignment, naming conventions, and the various data types available in Python, providing practical examples relevant to GIS.\n",
    "\n",
    "In this lecture, we will also explore the fundamental Python data structures: Tuples, Lists, Sets, and Dictionaries. These data structures are essential tools in geospatial programming, enabling you to efficiently store, manage, and manipulate various types of data. By mastering these structures, you will be able to handle complex geospatial datasets with ease, paving the way for more advanced analysis and processing tasks.\n",
    "\n",
    "## Learning Objectives\n",
    "\n",
    "By the end of this lecture, you should be able to:\n",
    "\n",
    "- Define and use variables in Python, adhering to best practices for naming and assignment.\n",
    "- Identify and utilize various Python data types, including integers, floats, strings, booleans, lists, and dictionaries.\n",
    "- Understand how data types are used in the context of geospatial data, such as coordinates and attribute information.\n",
    "- Understand the characteristics and use cases of Python tuples, lists, sets, and dictionaries.\n",
    "- Apply these data structures to store and manipulate geospatial data, such as coordinates, paths, and attribute information.\n",
    "- Differentiate between mutable and immutable data structures and choose the appropriate structure for different geospatial tasks.\n",
    "- Perform common operations on these data structures, including indexing, slicing, adding/removing elements, and updating values.\n",
    "- Utilize dictionaries to manage geospatial feature attributes and understand the importance of key-value pairs in geospatial data management."
   ]
  },
  {
   "cell_type": "markdown",
   "id": "1",
   "metadata": {},
   "source": [
    "## Variables in Python\n",
    "\n",
    "In Python, a variable is a symbolic name that is a reference or pointer to an object. Once an object is assigned to a variable, you can refer to that object by the variable name.\n",
    "\n",
    "Let's start by creating a simple variable that represents the number of spatial points in a dataset."
   ]
  },
  {
   "cell_type": "code",
   "execution_count": null,
   "id": "2",
   "metadata": {},
   "outputs": [],
   "source": [
    "num_points = 120"
   ]
  },
  {
   "cell_type": "markdown",
   "id": "3",
   "metadata": {},
   "source": [
    "This variable `num_points` now holds the integer value 120, which we can use in our calculations or logic.\n",
    "\n",
    "To view the value of the variable, we can use the `print()` function."
   ]
  },
  {
   "cell_type": "code",
   "execution_count": null,
   "id": "4",
   "metadata": {},
   "outputs": [],
   "source": [
    "print(num_points)"
   ]
  },
  {
   "cell_type": "markdown",
   "id": "5",
   "metadata": {},
   "source": [
    "Alternatively, we can simply type the variable name in a code cell and run the cell to display the value of the variable."
   ]
  },
  {
   "cell_type": "code",
   "execution_count": null,
   "id": "6",
   "metadata": {},
   "outputs": [],
   "source": [
    "num_points"
   ]
  },
  {
   "cell_type": "markdown",
   "id": "7",
   "metadata": {},
   "source": [
    "## Naming Variables\n",
    "\n",
    "When naming variables, you should follow these rules:\n",
    "\n",
    "- Variable names must start with a letter or an underscore, such as `_`.\n",
    "- The remainder of the variable name can consist of letters, numbers, and underscores.\n",
    "- Variable names are case-sensitive, so `num_points` and `Num_Points` are different variables.\n",
    "- Variable names should be descriptive and meaningful, such as `num_points` instead of `n`.\n",
    "- Avoid using Python keywords and built-in functions as variable names, such as `print`, `sum`, `list`, `dict`, `str`, `int`, `float`, `bool`, `set`, `tuple`, `range`, `type`, `object`, `None`, `True`, `False`, `and`, `or`, `not`, `if`, `else`, `elif`, `for`, `while`, `break`, `continue`, `pass`, `def`, `return`, `lambda`, `class`, `import`, `from`, `as`, `with`, `try`, `except`, `finally`, `raise`, `assert`, `del`, `in`, `is`, `global`, `nonlocal`, `yield`, `async`, `await`."
   ]
  },
  {
   "cell_type": "markdown",
   "id": "8",
   "metadata": {},
   "source": [
    "## Data Types\n",
    "\n",
    "Python supports various data types, which are essential to understand before working with geospatial data. The most common data types include:\n",
    "\n",
    "**a) Integers (int):** These are whole numbers, e.g., 1, 120, -5"
   ]
  },
  {
   "cell_type": "code",
   "execution_count": 5,
   "id": "9",
   "metadata": {},
   "outputs": [
    {
     "data": {
      "text/plain": [
       "float"
      ]
     },
     "execution_count": 5,
     "metadata": {},
     "output_type": "execute_result"
    }
   ],
   "source": [
    "num_features = 500.  # Represents the number of features in a geospatial dataset"
   ]
  },
  {
   "cell_type": "markdown",
   "id": "10",
   "metadata": {},
   "source": [
    "**b) Floating-point numbers (float):** These are numbers with a decimal point, e.g., 3.14, -0.001, 100.0. You can write multiple lines of code in a single code cell. The output will be displayed for the last line of code."
   ]
  },
  {
   "cell_type": "code",
   "execution_count": 6,
   "id": "11",
   "metadata": {},
   "outputs": [],
   "source": [
    "latitude = 35.6895  # Represents the latitude of a point on Earth's surface\n",
    "longitude = 139.6917  # Represents the longitude of a point on Earth's surface"
   ]
  },
  {
   "cell_type": "markdown",
   "id": "12",
   "metadata": {},
   "source": [
    "**c) Strings (str):** Strings are sequences of characters, e.g., \"Hello\", \"Geospatial Data\", \"Lat/Long\""
   ]
  },
  {
   "cell_type": "code",
   "execution_count": 7,
   "id": "13",
   "metadata": {},
   "outputs": [],
   "source": [
    "coordinate_system = \"WGS 84\"  # Represents a commonly used coordinate system"
   ]
  },
  {
   "cell_type": "markdown",
   "id": "14",
   "metadata": {},
   "source": [
    "Strings can be enclosed in single quotes (`'`) or double quotes (`\"`). You can also use triple quotes (`'''` or `\"\"\"`) for multiline strings."
   ]
  },
  {
   "cell_type": "markdown",
   "id": "15",
   "metadata": {},
   "source": [
    "**d) Booleans (bool):** Booleans represent one of two values: True or False"
   ]
  },
  {
   "cell_type": "code",
   "execution_count": null,
   "id": "16",
   "metadata": {},
   "outputs": [],
   "source": [
    "is_georeferenced = True  # Represents whether a dataset is georeferenced or not"
   ]
  },
  {
   "cell_type": "markdown",
   "id": "17",
   "metadata": {},
   "source": [
    "**e) Lists:** Lists are ordered collections of items, which can be of any data type."
   ]
  },
  {
   "cell_type": "code",
   "execution_count": 8,
   "id": "18",
   "metadata": {},
   "outputs": [],
   "source": [
    "coordinates = [\n",
    "    35.6895,\n",
    "    139.6917,\n",
    "]  # A list representing latitude and longitude of a point"
   ]
  },
  {
   "cell_type": "markdown",
   "id": "19",
   "metadata": {},
   "source": [
    "**f) Dictionaries (dict):** Dictionaries are collections of key-value pairs."
   ]
  },
  {
   "cell_type": "code",
   "execution_count": 9,
   "id": "20",
   "metadata": {},
   "outputs": [],
   "source": [
    "feature_attributes = {\n",
    "    \"name\": \"Mount Fuji\",\n",
    "    \"height_meters\": 3776,\n",
    "    \"type\": \"Stratovolcano\",\n",
    "    \"location\": [35.3606, 138.7274],\n",
    "}"
   ]
  },
  {
   "cell_type": "markdown",
   "id": "def46807",
   "metadata": {},
   "source": [
    "## Data Structures"
   ]
  },
  {
   "cell_type": "markdown",
   "id": "38",
   "metadata": {},
   "source": [
    "### Tuples\n",
    "\n",
    "Tuples are immutable sequences, meaning that once a tuple is created, its elements cannot be changed. Tuples are useful for storing fixed collections of items.\n",
    "\n",
    "For example, a tuple can be used to store the coordinates of a geographic point (latitude, longitude)."
   ]
  },
  {
   "cell_type": "code",
   "execution_count": 10,
   "id": "39",
   "metadata": {},
   "outputs": [],
   "source": [
    "point = (\n",
    "    35.6895,\n",
    "    139.6917,\n",
    ")  # Tuple representing a geographic point (latitude, longitude)"
   ]
  },
  {
   "cell_type": "markdown",
   "id": "40",
   "metadata": {},
   "source": [
    "You can access elements in a tuple using indexing:\n",
    "\n",
    "The f in the print statement refers to an f-string in Python, which is a way to format strings. Introduced in Python 3.6, f-strings provide a concise and convenient way to embed expressions inside string literals, using curly braces {}."
   ]
  },
  {
   "cell_type": "code",
   "execution_count": 11,
   "id": "67fefc83",
   "metadata": {},
   "outputs": [
    {
     "name": "stdout",
     "output_type": "stream",
     "text": [
      "Latitude: 35.6895, Longitude: 139.6917\n"
     ]
    }
   ],
   "source": [
    "latitude = point[0]\n",
    "longitude = point[1]\n",
    "print(f\"Latitude: {latitude}, Longitude: {longitude}\")"
   ]
  },
  {
   "cell_type": "markdown",
   "id": "4ded8761",
   "metadata": {},
   "source": [
    "### Lists\n",
    "\n",
    "Lists are ordered, mutable sequences, meaning you can change, add, or remove elements after the list has been created. Lists are very flexible and can store multiple types of data, making them useful for various geospatial tasks.\n",
    "\n",
    "For example, you can store a list of coordinates representing a path or boundary."
   ]
  },
  {
   "cell_type": "code",
   "execution_count": 12,
   "id": "8507e91c",
   "metadata": {},
   "outputs": [],
   "source": [
    "path = [\n",
    "    (35.6895, 139.6917),\n",
    "    (34.0522, -118.2437),\n",
    "    (51.5074, -0.1278),\n",
    "]  # List of tuples representing a path"
   ]
  },
  {
   "cell_type": "markdown",
   "id": "4ef3015f",
   "metadata": {},
   "source": [
    "You can add a new point to the path:"
   ]
  },
  {
   "cell_type": "code",
   "execution_count": 13,
   "id": "08da7505",
   "metadata": {},
   "outputs": [
    {
     "name": "stdout",
     "output_type": "stream",
     "text": [
      "Updated path: [(35.6895, 139.6917), (34.0522, -118.2437), (51.5074, -0.1278), (48.8566, 2.3522)]\n"
     ]
    }
   ],
   "source": [
    "path.append((48.8566, 2.3522))  # Adding Paris to the path\n",
    "print(\"Updated path:\", path)"
   ]
  },
  {
   "cell_type": "markdown",
   "id": "4f4b5ffd",
   "metadata": {},
   "source": [
    "Lists allow you to perform various operations such as slicing, which lets you access a subset of the list:"
   ]
  },
  {
   "cell_type": "code",
   "execution_count": 27,
   "id": "a74a6835",
   "metadata": {},
   "outputs": [
    {
     "name": "stdout",
     "output_type": "stream",
     "text": [
      "Sub-path: [(35.6895, 139.6917), (34.0522, -118.2437)]\n"
     ]
    }
   ],
   "source": [
    "sub_path = path[:2]  # Slicing the first two points from the path\n",
    "print(\"Sub-path:\", sub_path)"
   ]
  },
  {
   "cell_type": "markdown",
   "id": "02394a74",
   "metadata": {},
   "source": [
    "### Dictionaries\n",
    "\n",
    "Dictionaries are collections of key-value pairs, where each key is unique. Dictionaries are extremely useful for storing data that is associated with specific identifiers, such as attribute data for geographic features.\n",
    "\n",
    "For example, you can use a dictionary to store attributes of a geospatial feature, such as a city."
   ]
  },
  {
   "cell_type": "code",
   "execution_count": 28,
   "id": "877f36ef",
   "metadata": {},
   "outputs": [],
   "source": [
    "city_attributes = {\n",
    "    \"name\": \"Tokyo\",\n",
    "    \"population\": 13929286,\n",
    "    \"coordinates\": (35.6895, 139.6917),\n",
    "}  # Dictionary storing attributes of a city"
   ]
  },
  {
   "cell_type": "markdown",
   "id": "287ccdab",
   "metadata": {},
   "source": [
    "You can access the values associated with specific keys:"
   ]
  },
  {
   "cell_type": "code",
   "execution_count": 29,
   "id": "8ff1a609",
   "metadata": {},
   "outputs": [
    {
     "name": "stdout",
     "output_type": "stream",
     "text": [
      "City: Tokyo, Population: 13929286\n"
     ]
    }
   ],
   "source": [
    "city_name = city_attributes[\"name\"]\n",
    "city_population = city_attributes[\"population\"]\n",
    "print(f\"City: {city_name}, Population: {city_population}\")"
   ]
  },
  {
   "cell_type": "markdown",
   "id": "f389bc2d",
   "metadata": {},
   "source": [
    "You can also add or update key-value pairs in a dictionary:"
   ]
  },
  {
   "cell_type": "code",
   "execution_count": 30,
   "id": "5d3e2ff1",
   "metadata": {},
   "outputs": [
    {
     "name": "stdout",
     "output_type": "stream",
     "text": [
      "Updated city attributes: {'name': 'Tokyo', 'population': 13929286, 'coordinates': (35.6895, 139.6917), 'area_km2': 2191}\n"
     ]
    }
   ],
   "source": [
    "city_attributes[\"area_km2\"] = 2191  # Adding the area of the city in square kilometers\n",
    "print(\"Updated city attributes:\", city_attributes)"
   ]
  },
  {
   "cell_type": "markdown",
   "id": "f54432cd",
   "metadata": {},
   "source": [
    "## Exercises\n",
    "\n",
    "Create a dictionary to store attributes of a geographic feature (e.g., a river or mountain). Include keys for the name, length, and location of the feature. Then, add an additional attribute (e.g., the source of the river or the height of the mountain) and print the dictionary."
   ]
  },
  {
   "cell_type": "code",
   "execution_count": null,
   "id": "a6e3ef3b",
   "metadata": {},
   "outputs": [],
   "source": [
    "# Type your code here"
   ]
  },
  {
   "cell_type": "markdown",
   "id": "fe0ddc6b",
   "metadata": {},
   "source": [
    "## Conclusion\n",
    "\n",
    "Understanding and utilizing Python's data structures such as tuples, lists, sets, and dictionaries are fundamental skills in geospatial programming. These structures provide the flexibility and functionality required to manage and manipulate spatial data effectively.\n",
    "\n",
    "Continue exploring these data structures by applying them to your geospatial projects and analyses."
   ]
  }
 ],
 "metadata": {
  "kernelspec": {
   "display_name": "Python 3",
   "language": "python",
   "name": "python3"
  },
  "language_info": {
   "codemirror_mode": {
    "name": "ipython",
    "version": 3
   },
   "file_extension": ".py",
   "mimetype": "text/x-python",
   "name": "python",
   "nbconvert_exporter": "python",
   "pygments_lexer": "ipython3",
   "version": "3.11.9"
  }
 },
 "nbformat": 4,
 "nbformat_minor": 5
}
